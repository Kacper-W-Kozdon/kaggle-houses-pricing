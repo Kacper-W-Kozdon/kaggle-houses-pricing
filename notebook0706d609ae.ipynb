{
 "cells": [
  {
   "cell_type": "code",
   "execution_count": 1,
   "id": "71ef5050",
   "metadata": {
    "_cell_guid": "b1076dfc-b9ad-4769-8c92-a6c4dae69d19",
    "_uuid": "8f2839f25d086af736a60e9eeb907d3b93b6e0e5",
    "execution": {
     "iopub.execute_input": "2023-07-26T15:20:06.112832Z",
     "iopub.status.busy": "2023-07-26T15:20:06.112454Z",
     "iopub.status.idle": "2023-07-26T15:20:06.125685Z",
     "shell.execute_reply": "2023-07-26T15:20:06.124560Z"
    },
    "papermill": {
     "duration": 0.0197,
     "end_time": "2023-07-26T15:20:06.128415",
     "exception": false,
     "start_time": "2023-07-26T15:20:06.108715",
     "status": "completed"
    },
    "tags": []
   },
   "outputs": [
    {
     "name": "stdout",
     "output_type": "stream",
     "text": [
      "/kaggle/input/house-prices-advanced-regression-techniques/sample_submission.csv\n",
      "/kaggle/input/house-prices-advanced-regression-techniques/data_description.txt\n",
      "/kaggle/input/house-prices-advanced-regression-techniques/train.csv\n",
      "/kaggle/input/house-prices-advanced-regression-techniques/test.csv\n"
     ]
    }
   ],
   "source": [
    "# This Python 3 environment comes with many helpful analytics libraries installed\n",
    "# It is defined by the kaggle/python Docker image: https://github.com/kaggle/docker-python\n",
    "# For example, here's several helpful packages to load\n",
    "\n",
    "import numpy as np # linear algebra\n",
    "import pandas as pd # data processing, CSV file I/O (e.g. pd.read_csv)\n",
    "\n",
    "# Input data files are available in the read-only \"../input/\" directory\n",
    "# For example, running this (by clicking run or pressing Shift+Enter) will list all files under the input directory\n",
    "\n",
    "import os\n",
    "for dirname, _, filenames in os.walk('/kaggle/input'):\n",
    "    for filename in filenames:\n",
    "        print(os.path.join(dirname, filename))\n",
    "\n",
    "# You can write up to 20GB to the current directory (/kaggle/working/) that gets preserved as output when you create a version using \"Save & Run All\" \n",
    "# You can also write temporary files to /kaggle/temp/, but they won't be saved outside of the current session"
   ]
  },
  {
   "cell_type": "code",
   "execution_count": 2,
   "id": "6c9e41b6",
   "metadata": {
    "execution": {
     "iopub.execute_input": "2023-07-26T15:20:06.134388Z",
     "iopub.status.busy": "2023-07-26T15:20:06.133756Z",
     "iopub.status.idle": "2023-07-26T15:20:06.230709Z",
     "shell.execute_reply": "2023-07-26T15:20:06.229798Z"
    },
    "papermill": {
     "duration": 0.101834,
     "end_time": "2023-07-26T15:20:06.232463",
     "exception": false,
     "start_time": "2023-07-26T15:20:06.130629",
     "status": "completed"
    },
    "tags": []
   },
   "outputs": [
    {
     "name": "stdout",
     "output_type": "stream",
     "text": [
      "   Id  MSSubClass MSZoning  LotFrontage  LotArea Street Alley LotShape  \\\n",
      "0   1          60       RL         65.0     8450   Pave   NaN      Reg   \n",
      "1   2          20       RL         80.0     9600   Pave   NaN      Reg   \n",
      "2   3          60       RL         68.0    11250   Pave   NaN      IR1   \n",
      "3   4          70       RL         60.0     9550   Pave   NaN      IR1   \n",
      "4   5          60       RL         84.0    14260   Pave   NaN      IR1   \n",
      "\n",
      "  LandContour Utilities  ... PoolArea PoolQC Fence MiscFeature MiscVal MoSold  \\\n",
      "0         Lvl    AllPub  ...        0    NaN   NaN         NaN       0      2   \n",
      "1         Lvl    AllPub  ...        0    NaN   NaN         NaN       0      5   \n",
      "2         Lvl    AllPub  ...        0    NaN   NaN         NaN       0      9   \n",
      "3         Lvl    AllPub  ...        0    NaN   NaN         NaN       0      2   \n",
      "4         Lvl    AllPub  ...        0    NaN   NaN         NaN       0     12   \n",
      "\n",
      "  YrSold  SaleType  SaleCondition  SalePrice  \n",
      "0   2008        WD         Normal     208500  \n",
      "1   2007        WD         Normal     181500  \n",
      "2   2008        WD         Normal     223500  \n",
      "3   2006        WD        Abnorml     140000  \n",
      "4   2008        WD         Normal     250000  \n",
      "\n",
      "[5 rows x 81 columns]\n"
     ]
    },
    {
     "data": {
      "text/plain": [
       "float"
      ]
     },
     "execution_count": 2,
     "metadata": {},
     "output_type": "execute_result"
    }
   ],
   "source": [
    "train = pd.read_csv(\"/kaggle/input/house-prices-advanced-regression-techniques/train.csv\")\n",
    "test = pd.read_csv(\"/kaggle/input/house-prices-advanced-regression-techniques/test.csv\")\n",
    "print(train.head())\n",
    "train.columns\n",
    "set(list(train[\"MSSubClass\"][:]))\n",
    "type(list(train[\"PoolQC\"][:])[0])"
   ]
  },
  {
   "cell_type": "code",
   "execution_count": 3,
   "id": "143192ad",
   "metadata": {
    "execution": {
     "iopub.execute_input": "2023-07-26T15:20:06.238099Z",
     "iopub.status.busy": "2023-07-26T15:20:06.237680Z",
     "iopub.status.idle": "2023-07-26T15:20:06.251557Z",
     "shell.execute_reply": "2023-07-26T15:20:06.250597Z"
    },
    "papermill": {
     "duration": 0.019144,
     "end_time": "2023-07-26T15:20:06.253646",
     "exception": false,
     "start_time": "2023-07-26T15:20:06.234502",
     "status": "completed"
    },
    "tags": []
   },
   "outputs": [
    {
     "name": "stdout",
     "output_type": "stream",
     "text": [
      "{'MSZoning': {'RM': 0, 'RL': 1}, 'Street': {'Pave': 0}, 'LotShape': {'Reg': 0, 'IR1': 1, 'IR2': 2}, 'LandContour': {'Lvl': 0}, 'Utilities': {'AllPub': 0}, 'LotConfig': {'FR2': 0, 'Corner': 1, 'Inside': 2}, 'LandSlope': {'Gtl': 0}, 'Neighborhood': {'CollgCr': 0, 'OldTown': 1, 'NoRidge': 2, 'Mitchel': 3, 'Crawfor': 4, 'NWAmes': 5, 'Veenker': 6, 'NridgHt': 7, 'Sawyer': 8, 'BrkSide': 9, 'NAmes': 10, 'Somerst': 11}, 'Condition1': {'Artery': 0, 'Feedr': 1, 'Norm': 2, 'PosN': 3}, 'Condition2': {'Artery': 0, 'Norm': 1}, 'BldgType': {'2fmCon': 0, '1Fam': 1}, 'HouseStyle': {'1.5Fin': 0, '2Story': 1, '1Story': 2, '1.5Unf': 3}, 'RoofStyle': {'Gable': 0, 'Hip': 1}, 'RoofMatl': {'CompShg': 0}, 'Exterior1st': {'MetalSd': 0, 'VinylSd': 1, 'Wd Sdng': 2, 'BrkFace': 3, 'HdBoard': 4, 'WdShing': 5}, 'Exterior2nd': {'MetalSd': 0, 'VinylSd': 1, 'Plywood': 2, 'HdBoard': 3, 'Wd Shng': 4}, 'MasVnrType': {'Stone': 0, 'BrkFace': 1, 'None': 2}, 'ExterQual': {'Gd': 0, 'TA': 1, 'Ex': 2}, 'ExterCond': {'TA': 0}, 'Foundation': {'BrkTil': 0, 'Wood': 1, 'CBlock': 2, 'PConc': 3}, 'BsmtQual': {'Gd': 0, 'TA': 1, 'Ex': 2}, 'BsmtCond': {'Gd': 0, 'TA': 1}, 'BsmtExposure': {'Mn': 0, 'Av': 1, 'Gd': 2, 'No': 3}, 'BsmtFinType1': {'GLQ': 0, 'Rec': 1, 'BLQ': 2, 'ALQ': 3, 'Unf': 4}, 'BsmtFinType2': {'BLQ': 0, 'Unf': 1}, 'Heating': {'GasA': 0}, 'HeatingQC': {'Gd': 0, 'TA': 1, 'Ex': 2}, 'CentralAir': {'Y': 0}, 'Electrical': {'SBrkr': 0, 'FuseF': 1}, 'KitchenQual': {'Gd': 0, 'TA': 1, 'Ex': 2}, 'Functional': {'Typ': 0, 'Min1': 1}, 'FireplaceQu': {'Fa': 0, 'Gd': 2, 'TA': 3}, 'GarageType': {'Attchd': 0, 'Detchd': 1, 'BuiltIn': 2}, 'GarageFinish': {'RFn': 0, 'Fin': 1, 'Unf': 2}, 'GarageQual': {'Fa': 0, 'Gd': 1, 'TA': 2}, 'GarageCond': {'TA': 0}, 'PavedDrive': {'Y': 0}, 'Fence': {'MnPrv': 0, 'GdWo': 2}, 'MiscFeature': {'Shed': 1}, 'SaleType': {'New': 0, 'WD': 1}, 'SaleCondition': {'Abnorml': 0, 'Partial': 1, 'Normal': 2}}\n"
     ]
    }
   ],
   "source": [
    "def data_prep_dict(dataFrame):\n",
    "    columns = dataFrame.columns\n",
    "    getUniqVals = lambda column : set(list(column))\n",
    "    dataFrameDict = {}\n",
    "    for column in columns:\n",
    "        columnUniqVals = getUniqVals(dataFrame.loc[:, column])\n",
    "        auxDict = {}\n",
    "        for (idx, val) in enumerate(columnUniqVals):\n",
    "            if (type(val) == str or val == float(\"NaN\")):\n",
    "                auxDict[str(val)] = idx \n",
    "        dataFrameDict[column] = auxDict\n",
    "    \n",
    "    for column in columns:\n",
    "        if dataFrameDict[column] == {}:\n",
    "            dataFrameDict.pop(column)\n",
    "        \n",
    "        \n",
    "    return dataFrameDict\n",
    "\n",
    "print(data_prep_dict(train.head(15)))\n",
    "\n",
    "def data_prep(dataFrame, dataFrameDict):\n",
    "    \n",
    "    return 0"
   ]
  },
  {
   "cell_type": "code",
   "execution_count": null,
   "id": "4c4a24e1",
   "metadata": {
    "papermill": {
     "duration": 0.001761,
     "end_time": "2023-07-26T15:20:06.257629",
     "exception": false,
     "start_time": "2023-07-26T15:20:06.255868",
     "status": "completed"
    },
    "tags": []
   },
   "outputs": [],
   "source": []
  }
 ],
 "metadata": {
  "kernelspec": {
   "display_name": "Python 3",
   "language": "python",
   "name": "python3"
  },
  "language_info": {
   "codemirror_mode": {
    "name": "ipython",
    "version": 3
   },
   "file_extension": ".py",
   "mimetype": "text/x-python",
   "name": "python",
   "nbconvert_exporter": "python",
   "pygments_lexer": "ipython3",
   "version": "3.10.12"
  },
  "papermill": {
   "default_parameters": {},
   "duration": 9.492242,
   "end_time": "2023-07-26T15:20:07.081011",
   "environment_variables": {},
   "exception": null,
   "input_path": "__notebook__.ipynb",
   "output_path": "__notebook__.ipynb",
   "parameters": {},
   "start_time": "2023-07-26T15:19:57.588769",
   "version": "2.4.0"
  }
 },
 "nbformat": 4,
 "nbformat_minor": 5
}
