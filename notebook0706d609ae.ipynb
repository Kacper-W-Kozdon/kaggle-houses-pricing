{
 "cells": [
  {
   "cell_type": "code",
   "execution_count": 1,
   "id": "b4ffdd83",
   "metadata": {
    "_cell_guid": "b1076dfc-b9ad-4769-8c92-a6c4dae69d19",
    "_uuid": "8f2839f25d086af736a60e9eeb907d3b93b6e0e5",
    "execution": {
     "iopub.execute_input": "2023-07-26T19:24:48.339809Z",
     "iopub.status.busy": "2023-07-26T19:24:48.339330Z",
     "iopub.status.idle": "2023-07-26T19:24:49.499098Z",
     "shell.execute_reply": "2023-07-26T19:24:49.497553Z"
    },
    "papermill": {
     "duration": 1.167225,
     "end_time": "2023-07-26T19:24:49.501424",
     "exception": false,
     "start_time": "2023-07-26T19:24:48.334199",
     "status": "completed"
    },
    "tags": []
   },
   "outputs": [
    {
     "name": "stderr",
     "output_type": "stream",
     "text": [
      "/opt/conda/lib/python3.10/site-packages/scipy/__init__.py:146: UserWarning: A NumPy version >=1.16.5 and <1.23.0 is required for this version of SciPy (detected version 1.23.5\n",
      "  warnings.warn(f\"A NumPy version >={np_minversion} and <{np_maxversion}\"\n"
     ]
    },
    {
     "name": "stdout",
     "output_type": "stream",
     "text": [
      "/kaggle/input/house-prices-advanced-regression-techniques/sample_submission.csv\n",
      "/kaggle/input/house-prices-advanced-regression-techniques/data_description.txt\n",
      "/kaggle/input/house-prices-advanced-regression-techniques/train.csv\n",
      "/kaggle/input/house-prices-advanced-regression-techniques/test.csv\n"
     ]
    }
   ],
   "source": [
    "# This Python 3 environment comes with many helpful analytics libraries installed\n",
    "# It is defined by the kaggle/python Docker image: https://github.com/kaggle/docker-python\n",
    "# For example, here's several helpful packages to load\n",
    "\n",
    "__requires__= 'numpy==1.22.3'\n",
    "import numpy as np # linear algebra\n",
    "import pandas as pd # data processing, CSV file I/O (e.g. pd.read_csv)\n",
    "import math\n",
    "import sklearn\n",
    "\n",
    "# Input data files are available in the read-only \"../input/\" directory\n",
    "# For example, running this (by clicking run or pressing Shift+Enter) will list all files under the input directory\n",
    "\n",
    "import os\n",
    "for dirname, _, filenames in os.walk('/kaggle/input'):\n",
    "    for filename in filenames:\n",
    "        print(os.path.join(dirname, filename))\n",
    "\n",
    "# You can write up to 20GB to the current directory (/kaggle/working/) that gets preserved as output when you create a version using \"Save & Run All\" \n",
    "# You can also write temporary files to /kaggle/temp/, but they won't be saved outside of the current session"
   ]
  },
  {
   "cell_type": "code",
   "execution_count": 2,
   "id": "e11a6e15",
   "metadata": {
    "execution": {
     "iopub.execute_input": "2023-07-26T19:24:49.508405Z",
     "iopub.status.busy": "2023-07-26T19:24:49.507724Z",
     "iopub.status.idle": "2023-07-26T19:24:49.619630Z",
     "shell.execute_reply": "2023-07-26T19:24:49.618489Z"
    },
    "papermill": {
     "duration": 0.117777,
     "end_time": "2023-07-26T19:24:49.621962",
     "exception": false,
     "start_time": "2023-07-26T19:24:49.504185",
     "status": "completed"
    },
    "tags": []
   },
   "outputs": [
    {
     "name": "stdout",
     "output_type": "stream",
     "text": [
      "   Id  MSSubClass MSZoning  LotFrontage  LotArea Street Alley LotShape  \\\n",
      "0   1          60       RL         65.0     8450   Pave   NaN      Reg   \n",
      "1   2          20       RL         80.0     9600   Pave   NaN      Reg   \n",
      "2   3          60       RL         68.0    11250   Pave   NaN      IR1   \n",
      "3   4          70       RL         60.0     9550   Pave   NaN      IR1   \n",
      "4   5          60       RL         84.0    14260   Pave   NaN      IR1   \n",
      "\n",
      "  LandContour Utilities  ... PoolArea PoolQC Fence MiscFeature MiscVal MoSold  \\\n",
      "0         Lvl    AllPub  ...        0    NaN   NaN         NaN       0      2   \n",
      "1         Lvl    AllPub  ...        0    NaN   NaN         NaN       0      5   \n",
      "2         Lvl    AllPub  ...        0    NaN   NaN         NaN       0      9   \n",
      "3         Lvl    AllPub  ...        0    NaN   NaN         NaN       0      2   \n",
      "4         Lvl    AllPub  ...        0    NaN   NaN         NaN       0     12   \n",
      "\n",
      "  YrSold  SaleType  SaleCondition  SalePrice  \n",
      "0   2008        WD         Normal     208500  \n",
      "1   2007        WD         Normal     181500  \n",
      "2   2008        WD         Normal     223500  \n",
      "3   2006        WD        Abnorml     140000  \n",
      "4   2008        WD         Normal     250000  \n",
      "\n",
      "[5 rows x 81 columns]\n"
     ]
    },
    {
     "data": {
      "text/plain": [
       "float"
      ]
     },
     "execution_count": 2,
     "metadata": {},
     "output_type": "execute_result"
    }
   ],
   "source": [
    "train = pd.read_csv(\"/kaggle/input/house-prices-advanced-regression-techniques/train.csv\")\n",
    "test = pd.read_csv(\"/kaggle/input/house-prices-advanced-regression-techniques/test.csv\")\n",
    "print(train.head())\n",
    "train.columns\n",
    "set(list(train[\"MSSubClass\"][:]))\n",
    "type(list(train[\"PoolQC\"][:])[0])"
   ]
  },
  {
   "cell_type": "code",
   "execution_count": 3,
   "id": "6208bc41",
   "metadata": {
    "execution": {
     "iopub.execute_input": "2023-07-26T19:24:49.628681Z",
     "iopub.status.busy": "2023-07-26T19:24:49.628351Z",
     "iopub.status.idle": "2023-07-26T19:24:49.715467Z",
     "shell.execute_reply": "2023-07-26T19:24:49.714185Z"
    },
    "papermill": {
     "duration": 0.09313,
     "end_time": "2023-07-26T19:24:49.717729",
     "exception": false,
     "start_time": "2023-07-26T19:24:49.624599",
     "status": "completed"
    },
    "tags": []
   },
   "outputs": [
    {
     "name": "stdout",
     "output_type": "stream",
     "text": [
      "{'MSZoning': {'RM': 0, 'RL': 1}, 'LotFrontage': {nan: 2, nan: 5, nan: 13}, 'Street': {'Pave': 0}, 'Alley': {nan: 0}, 'LotShape': {'Reg': 0, 'IR1': 1, 'IR2': 2}, 'LandContour': {'Lvl': 0}, 'Utilities': {'AllPub': 0}, 'LotConfig': {'Corner': 0, 'FR2': 1, 'Inside': 2}, 'LandSlope': {'Gtl': 0}, 'Neighborhood': {'NWAmes': 0, 'Mitchel': 1, 'CollgCr': 2, 'Crawfor': 3, 'BrkSide': 4, 'NAmes': 5, 'NridgHt': 6, 'Somerst': 7, 'Sawyer': 8, 'OldTown': 9, 'Veenker': 10, 'NoRidge': 11}, 'Condition1': {'PosN': 0, 'Artery': 1, 'Feedr': 2, 'Norm': 3}, 'Condition2': {'Artery': 0, 'Norm': 1}, 'BldgType': {'1Fam': 0, '2fmCon': 1}, 'HouseStyle': {'1.5Unf': 0, '1.5Fin': 1, '1Story': 2, '2Story': 3}, 'RoofStyle': {'Gable': 0, 'Hip': 1}, 'RoofMatl': {'CompShg': 0}, 'Exterior1st': {'Wd Sdng': 0, 'WdShing': 1, 'HdBoard': 2, 'BrkFace': 3, 'MetalSd': 4, 'VinylSd': 5}, 'Exterior2nd': {'HdBoard': 0, 'Plywood': 1, 'MetalSd': 2, 'Wd Shng': 3, 'VinylSd': 4}, 'MasVnrType': {'BrkFace': 0, 'None': 1, 'Stone': 2}, 'ExterQual': {'Ex': 0, 'TA': 1, 'Gd': 2}, 'ExterCond': {'TA': 0}, 'Foundation': {'BrkTil': 0, 'PConc': 1, 'Wood': 2, 'CBlock': 3}, 'BsmtQual': {'Ex': 0, 'TA': 1, 'Gd': 2}, 'BsmtCond': {'TA': 0, 'Gd': 1}, 'BsmtExposure': {'Mn': 0, 'No': 1, 'Av': 2, 'Gd': 3}, 'BsmtFinType1': {'GLQ': 0, 'ALQ': 1, 'BLQ': 2, 'Rec': 3, 'Unf': 4}, 'BsmtFinType2': {'BLQ': 0, 'Unf': 1}, 'Heating': {'GasA': 0}, 'HeatingQC': {'Ex': 0, 'TA': 1, 'Gd': 2}, 'CentralAir': {'Y': 0}, 'Electrical': {'FuseF': 0, 'SBrkr': 1}, 'KitchenQual': {'Ex': 0, 'TA': 1, 'Gd': 2}, 'Functional': {'Typ': 0, 'Min1': 1}, 'FireplaceQu': {'Fa': 0, nan: 1, 'TA': 2, 'Gd': 3}, 'GarageType': {'Detchd': 0, 'Attchd': 1, 'BuiltIn': 2}, 'GarageFinish': {'Unf': 0, 'RFn': 1, 'Fin': 2}, 'GarageQual': {'Fa': 0, 'TA': 1, 'Gd': 2}, 'GarageCond': {'TA': 0}, 'PavedDrive': {'Y': 0}, 'PoolQC': {nan: 0}, 'Fence': {nan: 0, 'GdWo': 1, 'MnPrv': 2}, 'MiscFeature': {'Shed': 0, nan: 1}, 'SaleType': {'New': 0, 'WD': 1}, 'SaleCondition': {'Partial': 0, 'Abnorml': 1, 'Normal': 2}}\n",
      "    Id  MSSubClass  MSZoning  LotFrontage  LotArea  Street  Alley  LotShape  \\\n",
      "0    1          60         1         65.0     8450       0    1.0         0   \n",
      "1    2          20         1         80.0     9600       0    1.0         0   \n",
      "2    3          60         1         68.0    11250       0    1.0         1   \n",
      "3    4          70         1         60.0     9550       0    1.0         1   \n",
      "4    5          60         1         84.0    14260       0    1.0         1   \n",
      "5    6          50         1         85.0    14115       0    1.0         1   \n",
      "6    7          20         1         75.0    10084       0    1.0         0   \n",
      "7    8          60         1          1.0    10382       0    1.0         1   \n",
      "8    9          50         0         51.0     6120       0    1.0         0   \n",
      "9   10         190         1         50.0     7420       0    1.0         0   \n",
      "10  11          20         1         70.0    11200       0    1.0         0   \n",
      "11  12          60         1         85.0    11924       0    1.0         1   \n",
      "12  13          20         1          1.0    12968       0    1.0         2   \n",
      "13  14          20         1         91.0    10652       0    1.0         1   \n",
      "14  15          20         1          1.0    10920       0    1.0         1   \n",
      "\n",
      "    LandContour  Utilities  ...  PoolArea  PoolQC  Fence  MiscFeature  \\\n",
      "0             0          0  ...         0     1.0      1            1   \n",
      "1             0          0  ...         0     1.0      1            1   \n",
      "2             0          0  ...         0     1.0      1            1   \n",
      "3             0          0  ...         0     1.0      1            1   \n",
      "4             0          0  ...         0     1.0      1            1   \n",
      "5             0          0  ...         0     1.0      2            0   \n",
      "6             0          0  ...         0     1.0      1            1   \n",
      "7             0          0  ...         0     1.0      1            0   \n",
      "8             0          0  ...         0     1.0      1            1   \n",
      "9             0          0  ...         0     1.0      1            1   \n",
      "10            0          0  ...         0     1.0      1            1   \n",
      "11            0          0  ...         0     1.0      1            1   \n",
      "12            0          0  ...         0     1.0      1            1   \n",
      "13            0          0  ...         0     1.0      1            1   \n",
      "14            0          0  ...         0     1.0      1            1   \n",
      "\n",
      "    MiscVal  MoSold  YrSold  SaleType  SaleCondition  SalePrice  \n",
      "0         0       2    2008         1              2     208500  \n",
      "1         0       5    2007         1              2     181500  \n",
      "2         0       9    2008         1              2     223500  \n",
      "3         0       2    2006         1              1     140000  \n",
      "4         0      12    2008         1              2     250000  \n",
      "5       700      10    2009         1              2     143000  \n",
      "6         0       8    2007         1              2     307000  \n",
      "7       350      11    2009         1              2     200000  \n",
      "8         0       4    2008         1              1     129900  \n",
      "9         0       1    2008         1              2     118000  \n",
      "10        0       2    2008         1              2     129500  \n",
      "11        0       7    2006         0              0     345000  \n",
      "12        0       9    2008         1              2     144000  \n",
      "13        0       8    2007         0              0     279500  \n",
      "14        0       5    2008         1              2     157000  \n",
      "\n",
      "[15 rows x 81 columns]\n"
     ]
    }
   ],
   "source": [
    "def data_prep_dict(dataFrame):\n",
    "    columns = dataFrame.columns\n",
    "    getUniqVals = lambda column : set(list(column))\n",
    "    dataFrameDict = {}\n",
    "    for column in columns:\n",
    "        columnUniqVals = getUniqVals(dataFrame.loc[:, column])\n",
    "        auxDict = {}\n",
    "        for (idx, val) in enumerate(columnUniqVals):\n",
    "            if type(val) == str:\n",
    "                auxDict[str(val)] = idx \n",
    "            try:\n",
    "                if math.isnan(val):\n",
    "                    auxDict[val] = idx\n",
    "            except:\n",
    "                pass\n",
    "        dataFrameDict[column] = auxDict\n",
    "    \n",
    "    for column in columns:\n",
    "        if dataFrameDict[column] == {}:\n",
    "            dataFrameDict.pop(column)\n",
    "        \n",
    "        \n",
    "    return dataFrameDict\n",
    "\n",
    "print(data_prep_dict(train.head(15)))\n",
    "trainDict = data_prep_dict(train.head(15))\n",
    "\n",
    "def data_prep(dataFrame, dataFrameDict):\n",
    "    dataFrameDictCollapsed = {}\n",
    "    for key in list(dataFrameDict.keys()):\n",
    "        dataFrameDictCollapsed.update(dataFrameDict[key])\n",
    "    dataFrame = dataFrame.replace(dataFrameDictCollapsed)\n",
    "    return dataFrame\n",
    "\n",
    "print(data_prep(train.head(15), trainDict))"
   ]
  },
  {
   "cell_type": "code",
   "execution_count": null,
   "id": "fba12fe2",
   "metadata": {
    "execution": {
     "iopub.execute_input": "2023-07-26T15:57:20.033620Z",
     "iopub.status.busy": "2023-07-26T15:57:20.033083Z",
     "iopub.status.idle": "2023-07-26T15:57:20.044049Z",
     "shell.execute_reply": "2023-07-26T15:57:20.042288Z",
     "shell.execute_reply.started": "2023-07-26T15:57:20.033577Z"
    },
    "papermill": {
     "duration": 0.002831,
     "end_time": "2023-07-26T19:24:49.723599",
     "exception": false,
     "start_time": "2023-07-26T19:24:49.720768",
     "status": "completed"
    },
    "tags": []
   },
   "outputs": [],
   "source": []
  },
  {
   "cell_type": "code",
   "execution_count": null,
   "id": "2ad9bffc",
   "metadata": {
    "papermill": {
     "duration": 0.002642,
     "end_time": "2023-07-26T19:24:49.729108",
     "exception": false,
     "start_time": "2023-07-26T19:24:49.726466",
     "status": "completed"
    },
    "tags": []
   },
   "outputs": [],
   "source": []
  },
  {
   "cell_type": "code",
   "execution_count": null,
   "id": "48cd0e9e",
   "metadata": {
    "papermill": {
     "duration": 0.002521,
     "end_time": "2023-07-26T19:24:49.734388",
     "exception": false,
     "start_time": "2023-07-26T19:24:49.731867",
     "status": "completed"
    },
    "tags": []
   },
   "outputs": [],
   "source": []
  }
 ],
 "metadata": {
  "kernelspec": {
   "display_name": "Python 3",
   "language": "python",
   "name": "python3"
  },
  "language_info": {
   "codemirror_mode": {
    "name": "ipython",
    "version": 3
   },
   "file_extension": ".py",
   "mimetype": "text/x-python",
   "name": "python",
   "nbconvert_exporter": "python",
   "pygments_lexer": "ipython3",
   "version": "3.10.12"
  },
  "papermill": {
   "default_parameters": {},
   "duration": 11.806624,
   "end_time": "2023-07-26T19:24:50.660179",
   "environment_variables": {},
   "exception": null,
   "input_path": "__notebook__.ipynb",
   "output_path": "__notebook__.ipynb",
   "parameters": {},
   "start_time": "2023-07-26T19:24:38.853555",
   "version": "2.4.0"
  }
 },
 "nbformat": 4,
 "nbformat_minor": 5
}
