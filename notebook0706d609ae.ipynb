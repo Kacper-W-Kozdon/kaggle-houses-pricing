{
 "cells": [
  {
   "cell_type": "code",
   "execution_count": 1,
   "id": "51ecd822",
   "metadata": {
    "_cell_guid": "b1076dfc-b9ad-4769-8c92-a6c4dae69d19",
    "_uuid": "8f2839f25d086af736a60e9eeb907d3b93b6e0e5",
    "execution": {
     "iopub.execute_input": "2023-08-04T21:18:29.887555Z",
     "iopub.status.busy": "2023-08-04T21:18:29.886522Z",
     "iopub.status.idle": "2023-08-04T21:18:31.598727Z",
     "shell.execute_reply": "2023-08-04T21:18:31.597173Z"
    },
    "papermill": {
     "duration": 1.720805,
     "end_time": "2023-08-04T21:18:31.601362",
     "exception": false,
     "start_time": "2023-08-04T21:18:29.880557",
     "status": "completed"
    },
    "tags": []
   },
   "outputs": [
    {
     "name": "stderr",
     "output_type": "stream",
     "text": [
      "/opt/conda/lib/python3.10/site-packages/scipy/__init__.py:146: UserWarning: A NumPy version >=1.16.5 and <1.23.0 is required for this version of SciPy (detected version 1.23.5\n",
      "  warnings.warn(f\"A NumPy version >={np_minversion} and <{np_maxversion}\"\n"
     ]
    },
    {
     "name": "stdout",
     "output_type": "stream",
     "text": [
      "/kaggle/input/house-prices-advanced-regression-techniques/sample_submission.csv\n",
      "/kaggle/input/house-prices-advanced-regression-techniques/data_description.txt\n",
      "/kaggle/input/house-prices-advanced-regression-techniques/train.csv\n",
      "/kaggle/input/house-prices-advanced-regression-techniques/test.csv\n"
     ]
    }
   ],
   "source": [
    "# This Python 3 environment comes with many helpful analytics libraries installed\n",
    "# It is defined by the kaggle/python Docker image: https://github.com/kaggle/docker-python\n",
    "# For example, here's several helpful packages to load\n",
    "\n",
    "__requires__= 'numpy==1.22.3'\n",
    "import numpy as np # linear algebra\n",
    "import pandas as pd # data processing, CSV file I/O (e.g. pd.read_csv)\n",
    "import math\n",
    "import graphviz \n",
    "import sklearn\n",
    "import copy\n",
    "from sklearn import tree\n",
    "from sklearn.decomposition import PCA\n",
    "\n",
    "# Input data files are available in the read-only \"../input/\" directory\n",
    "# For example, running this (by clicking run or pressing Shift+Enter) will list all files under the input directory\n",
    "\n",
    "import os\n",
    "for dirname, _, filenames in os.walk('/kaggle/input'):\n",
    "    for filename in filenames:\n",
    "        print(os.path.join(dirname, filename))\n",
    "\n",
    "# You can write up to 20GB to the current directory (/kaggle/working/) that gets preserved as output when you create a version using \"Save & Run All\" \n",
    "# You can also write temporary files to /kaggle/temp/, but they won't be saved outside of the current session"
   ]
  },
  {
   "cell_type": "code",
   "execution_count": 2,
   "id": "042a261e",
   "metadata": {
    "execution": {
     "iopub.execute_input": "2023-08-04T21:18:31.609077Z",
     "iopub.status.busy": "2023-08-04T21:18:31.608647Z",
     "iopub.status.idle": "2023-08-04T21:18:45.170875Z",
     "shell.execute_reply": "2023-08-04T21:18:45.169495Z"
    },
    "papermill": {
     "duration": 13.569003,
     "end_time": "2023-08-04T21:18:45.173659",
     "exception": false,
     "start_time": "2023-08-04T21:18:31.604656",
     "status": "completed"
    },
    "tags": []
   },
   "outputs": [
    {
     "name": "stdout",
     "output_type": "stream",
     "text": [
      "Collecting PyPDF2\r\n",
      "  Downloading pypdf2-3.0.1-py3-none-any.whl (232 kB)\r\n",
      "\u001b[2K     \u001b[90m━━━━━━━━━━━━━━━━━━━━━━━━━━━━━━━━━━━━━━━\u001b[0m \u001b[32m232.6/232.6 kB\u001b[0m \u001b[31m3.0 MB/s\u001b[0m eta \u001b[36m0:00:00\u001b[0m\r\n",
      "\u001b[?25hInstalling collected packages: PyPDF2\r\n",
      "Successfully installed PyPDF2-3.0.1\r\n"
     ]
    }
   ],
   "source": [
    "!pip install PyPDF2\n",
    "import PyPDF2"
   ]
  },
  {
   "cell_type": "code",
   "execution_count": 3,
   "id": "3fe9c89e",
   "metadata": {
    "execution": {
     "iopub.execute_input": "2023-08-04T21:18:45.182473Z",
     "iopub.status.busy": "2023-08-04T21:18:45.182018Z",
     "iopub.status.idle": "2023-08-04T21:18:45.289166Z",
     "shell.execute_reply": "2023-08-04T21:18:45.287763Z"
    },
    "papermill": {
     "duration": 0.115654,
     "end_time": "2023-08-04T21:18:45.292767",
     "exception": false,
     "start_time": "2023-08-04T21:18:45.177113",
     "status": "completed"
    },
    "tags": []
   },
   "outputs": [
    {
     "name": "stdout",
     "output_type": "stream",
     "text": [
      "   Id  MSSubClass MSZoning  LotFrontage  LotArea Street Alley LotShape  \\\n",
      "0   1          60       RL         65.0     8450   Pave   NaN      Reg   \n",
      "1   2          20       RL         80.0     9600   Pave   NaN      Reg   \n",
      "2   3          60       RL         68.0    11250   Pave   NaN      IR1   \n",
      "3   4          70       RL         60.0     9550   Pave   NaN      IR1   \n",
      "4   5          60       RL         84.0    14260   Pave   NaN      IR1   \n",
      "\n",
      "  LandContour Utilities  ... PoolArea PoolQC Fence MiscFeature MiscVal MoSold  \\\n",
      "0         Lvl    AllPub  ...        0    NaN   NaN         NaN       0      2   \n",
      "1         Lvl    AllPub  ...        0    NaN   NaN         NaN       0      5   \n",
      "2         Lvl    AllPub  ...        0    NaN   NaN         NaN       0      9   \n",
      "3         Lvl    AllPub  ...        0    NaN   NaN         NaN       0      2   \n",
      "4         Lvl    AllPub  ...        0    NaN   NaN         NaN       0     12   \n",
      "\n",
      "  YrSold  SaleType  SaleCondition  SalePrice  \n",
      "0   2008        WD         Normal     208500  \n",
      "1   2007        WD         Normal     181500  \n",
      "2   2008        WD         Normal     223500  \n",
      "3   2006        WD        Abnorml     140000  \n",
      "4   2008        WD         Normal     250000  \n",
      "\n",
      "[5 rows x 81 columns]\n"
     ]
    },
    {
     "data": {
      "text/plain": [
       "float"
      ]
     },
     "execution_count": 3,
     "metadata": {},
     "output_type": "execute_result"
    }
   ],
   "source": [
    "train = pd.read_csv(\"/kaggle/input/house-prices-advanced-regression-techniques/train.csv\")\n",
    "test = pd.read_csv(\"/kaggle/input/house-prices-advanced-regression-techniques/test.csv\")\n",
    "print(train.head())\n",
    "train.columns\n",
    "set(list(train[\"MSSubClass\"][:]))\n",
    "type(list(train[\"PoolQC\"][:])[0])"
   ]
  },
  {
   "cell_type": "code",
   "execution_count": 4,
   "id": "79102528",
   "metadata": {
    "execution": {
     "iopub.execute_input": "2023-08-04T21:18:45.303087Z",
     "iopub.status.busy": "2023-08-04T21:18:45.301857Z",
     "iopub.status.idle": "2023-08-04T21:18:45.623297Z",
     "shell.execute_reply": "2023-08-04T21:18:45.622125Z"
    },
    "papermill": {
     "duration": 0.329473,
     "end_time": "2023-08-04T21:18:45.625925",
     "exception": false,
     "start_time": "2023-08-04T21:18:45.296452",
     "status": "completed"
    },
    "tags": []
   },
   "outputs": [
    {
     "name": "stdout",
     "output_type": "stream",
     "text": [
      "(    Id  MSSubClass  MSZoning  LotFrontage  LotArea  Street  Alley  LotShape  \\\n",
      "0    1          60         3         65.0     8450       2      2         2   \n",
      "1    2          20         3         80.0     9600       2      2         2   \n",
      "2    3          60         3         68.0    11250       2      2         1   \n",
      "3    4          70         3         60.0     9550       2      2         1   \n",
      "4    5          60         3         84.0    14260       2      2         1   \n",
      "5    6          50         3         85.0    14115       2      2         1   \n",
      "6    7          20         3         75.0    10084       2      2         2   \n",
      "7    8          60         3          2.0    10382       2      2         1   \n",
      "8    9          50         2         51.0     6120       2      2         2   \n",
      "9   10         190         3         50.0     7420       2      2         2   \n",
      "10  11          20         3         70.0    11200       2      2         2   \n",
      "11  12          60         3         85.0    11924       2      2         1   \n",
      "12  13          20         3          2.0    12968       2      2         0   \n",
      "13  14          20         3         91.0    10652       2      2         1   \n",
      "14  15          20         3          2.0    10920       2      2         1   \n",
      "\n",
      "    LandContour  Utilities  ...  ScreenPorch  PoolArea  PoolQC  Fence  \\\n",
      "0             3          1  ...            0         0       2      2   \n",
      "1             3          1  ...            0         0       2      2   \n",
      "2             3          1  ...            0         0       2      2   \n",
      "3             3          1  ...            0         0       2      2   \n",
      "4             3          1  ...            0         0       2      2   \n",
      "5             3          1  ...            0         0       2      1   \n",
      "6             3          1  ...            0         0       2      2   \n",
      "7             3          1  ...            0         0       2      2   \n",
      "8             3          1  ...            0         0       2      2   \n",
      "9             3          1  ...            0         0       2      2   \n",
      "10            3          1  ...            0         0       2      2   \n",
      "11            3          1  ...            0         0       2      2   \n",
      "12            3          1  ...          176         0       2      2   \n",
      "13            3          1  ...            0         0       2      2   \n",
      "14            3          1  ...            0         0       2      3   \n",
      "\n",
      "    MiscFeature  MiscVal  MoSold  YrSold  SaleType  SaleCondition  \n",
      "0             2        0       2    2008         3              5  \n",
      "1             2        0       5    2007         3              5  \n",
      "2             2        0       9    2008         3              5  \n",
      "3             2        0       2    2006         3              1  \n",
      "4             2        0      12    2008         3              5  \n",
      "5             0      700      10    2009         3              5  \n",
      "6             2        0       8    2007         3              5  \n",
      "7             0      350      11    2009         3              5  \n",
      "8             2        0       4    2008         3              1  \n",
      "9             2        0       1    2008         3              5  \n",
      "10            2        0       2    2008         3              5  \n",
      "11            2        0       7    2006         2              4  \n",
      "12            2        0       9    2008         3              5  \n",
      "13            2        0       8    2007         2              4  \n",
      "14            2        0       5    2008         3              5  \n",
      "\n",
      "[15 rows x 80 columns], 0     208500\n",
      "1     181500\n",
      "2     223500\n",
      "3     140000\n",
      "4     250000\n",
      "5     143000\n",
      "6     307000\n",
      "7     200000\n",
      "8     129900\n",
      "9     118000\n",
      "10    129500\n",
      "11    345000\n",
      "12    144000\n",
      "13    279500\n",
      "14    157000\n",
      "Name: SalePrice, dtype: int64)\n"
     ]
    }
   ],
   "source": [
    "def data_prep_dict(dataFrame):\n",
    "    dataFrame = dataFrame.replace(float(\"nan\"), \"NA\")\n",
    "    columns = dataFrame.columns\n",
    "    getUniqVals = lambda column : set(list(column))\n",
    "    dataFrameDict = {}\n",
    "    for column in columns:\n",
    "        columnUniqVals = getUniqVals(dataFrame.loc[:, column])\n",
    "        auxDict = {}\n",
    "        for (idx, val) in enumerate(columnUniqVals):\n",
    "            if type(val) == str:\n",
    "                auxDict[str(val)] = idx \n",
    "#            try:\n",
    "#                if math.isnan(val):\n",
    "#                    auxDict[val] = idx\n",
    "#            except:\n",
    "#                pass\n",
    "        dataFrameDict[column] = auxDict\n",
    "    \n",
    "    for column in columns:\n",
    "        if dataFrameDict[column] == {}:\n",
    "            dataFrameDict.pop(column)\n",
    "        \n",
    "        \n",
    "    return dataFrameDict\n",
    "\n",
    "#print(data_prep_dict(train))\n",
    "trainDict = data_prep_dict(train)\n",
    "#print(trainDict)\n",
    "\n",
    "def data_prep(dataFrame, dataFrameDict, test = 0):\n",
    "    dataFrame = dataFrame.replace(float(\"nan\"), \"NA\")\n",
    "    dataFrameDictCollapsed = {}\n",
    "    for key in list(dataFrameDict.keys()):\n",
    "        dataFrameDictCollapsed.update(dataFrameDict[key])\n",
    "    dataFrame = dataFrame.replace(dataFrameDictCollapsed)\n",
    "    X = dataFrame.loc[:, \"Id\":\"SaleCondition\"]\n",
    "    if not test:\n",
    "        Y = dataFrame.loc[:, \"SalePrice\"]\n",
    "        return X, Y\n",
    "    else:\n",
    "        return X\n",
    "\n",
    "print(data_prep(train.head(15), trainDict))\n",
    "XTrainHead, YTrainHead = data_prep(train.head(15), trainDict)\n",
    "XTestHead = data_prep(test.head(15), trainDict, test = 1)"
   ]
  },
  {
   "cell_type": "code",
   "execution_count": 5,
   "id": "3e1d2ae8",
   "metadata": {
    "execution": {
     "iopub.execute_input": "2023-08-04T21:18:45.635516Z",
     "iopub.status.busy": "2023-08-04T21:18:45.635071Z",
     "iopub.status.idle": "2023-08-04T21:18:46.981350Z",
     "shell.execute_reply": "2023-08-04T21:18:46.980202Z"
    },
    "papermill": {
     "duration": 1.354026,
     "end_time": "2023-08-04T21:18:46.983834",
     "exception": false,
     "start_time": "2023-08-04T21:18:45.629808",
     "status": "completed"
    },
    "tags": []
   },
   "outputs": [
    {
     "name": "stdout",
     "output_type": "stream",
     "text": [
      "None\n"
     ]
    },
    {
     "data": {
      "image/png": "[encoded data removed]",
      "text/plain": [
       "<Figure size 640x480 with 1 Axes>"
      ]
     },
     "metadata": {},
     "output_type": "display_data"
    }
   ],
   "source": [
    "def tree_classifier(X, Y):\n",
    "    classifier = tree.DecisionTreeClassifier()\n",
    "    classifier.fit(X, Y)\n",
    "    tree.plot_tree(classifier)\n",
    "    \n",
    "print(tree_classifier(XTrainHead, YTrainHead))"
   ]
  },
  {
   "cell_type": "code",
   "execution_count": 6,
   "id": "506b854b",
   "metadata": {
    "execution": {
     "iopub.execute_input": "2023-08-04T21:18:46.995298Z",
     "iopub.status.busy": "2023-08-04T21:18:46.994866Z",
     "iopub.status.idle": "2023-08-04T21:18:48.512787Z",
     "shell.execute_reply": "2023-08-04T21:18:48.511153Z"
    },
    "papermill": {
     "duration": 1.527079,
     "end_time": "2023-08-04T21:18:48.515492",
     "exception": false,
     "start_time": "2023-08-04T21:18:46.988413",
     "status": "completed"
    },
    "tags": []
   },
   "outputs": [
    {
     "name": "stdout",
     "output_type": "stream",
     "text": [
      "[345000 345000 345000 345000 345000 345000 345000 345000 345000 345000\n",
      " 345000 345000 345000 345000 345000]\n"
     ]
    },
    {
     "data": {
      "text/plain": [
       "<__main__.TreeClassifier at 0x784b179e6440>"
      ]
     },
     "execution_count": 6,
     "metadata": {},
     "output_type": "execute_result"
    },
    {
     "data": {
      "image/png": "[encoded data removed]",
      "text/plain": [
       "<Figure size 640x480 with 1 Axes>"
      ]
     },
     "metadata": {},
     "output_type": "display_data"
    }
   ],
   "source": [
    "#someTree = my_tree.DecisionTreeClassifier()\n",
    "#someTree2 = my_tree\n",
    "#print(dir(someTree))\n",
    "#print(dir(someTree2))\n",
    "#print(type(my_tree.DecisionTreeClassifier()))\n",
    "#print(type(my_tree))\n",
    "\n",
    "\n",
    "class TreeClassifier():\n",
    "    def __init__(self):\n",
    "        \n",
    "        classifier = None\n",
    "        pca = None\n",
    "    \n",
    "    def __feature_selection__(self, X, train = 1):\n",
    "        if train == 1:\n",
    "            pca = PCA()\n",
    "         \n",
    "            S_ = pca.fit(np.array(X)).transform(np.array(X))    \n",
    "\n",
    "\n",
    "            self.pca = pca\n",
    "        if train == 0:\n",
    "\n",
    "            S_ = self.pca.transform(np.array(X))\n",
    "            \n",
    "        return S_, self\n",
    "    \n",
    "    def train(self, X, Y):\n",
    "        classifier = tree.DecisionTreeClassifier()\n",
    "        Xpca = copy.copy(X)\n",
    "#        print(Xpca)\n",
    "        Xpca, _ = self.__feature_selection__(Xpca)\n",
    "        classifier.fit(Xpca, Y)\n",
    "        self.classifier = classifier\n",
    "        return self\n",
    "    \n",
    "    def plt(self):\n",
    "        tree.plot_tree(self.classifier)\n",
    "        dot_data = tree.export_graphviz(self.classifier, out_file=None, filled=True, rounded=True, special_characters=True)\n",
    "        graph = graphviz.Source(dot_data)  \n",
    "        graph.render(\"myDecisionTree\")\n",
    "#        f = open('/kaggle/working/myDecisionTree.pdf','rb')\n",
    "#        pdf_reader = PyPDF2.PdfReader(f)\n",
    "#        page = pdf_reader.pages[0]\n",
    "#        \n",
    "#        count = 0\n",
    "#\n",
    "#        for image_file_object in page.images:\n",
    "#            with open(str(count) + image_file_object.name, \"wb\") as fp:\n",
    "#                fp.write(image_file_object.data)\n",
    "#                count += 1\n",
    "    \n",
    "    def pred(self, X, Y):\n",
    "        Xpca = copy.copy(X)\n",
    "#        print(Xpca)\n",
    "        Xpca, _ = self.__feature_selection__(Xpca, 0)\n",
    "        self.predictions = self.classifier.predict(Xpca)\n",
    "        \n",
    "        print(self.predictions)\n",
    "        return self\n",
    "        \n",
    "Tree = TreeClassifier()\n",
    "Tree.train(XTrainHead, YTrainHead)\n",
    "Tree.plt()  \n",
    "Tree.pred(XTestHead, YTrainHead)\n",
    "    "
   ]
  },
  {
   "cell_type": "code",
   "execution_count": null,
   "id": "2f8cefd1",
   "metadata": {
    "papermill": {
     "duration": 0.004812,
     "end_time": "2023-08-04T21:18:48.525498",
     "exception": false,
     "start_time": "2023-08-04T21:18:48.520686",
     "status": "completed"
    },
    "tags": []
   },
   "outputs": [],
   "source": []
  },
  {
   "cell_type": "code",
   "execution_count": null,
   "id": "09eee81f",
   "metadata": {
    "papermill": {
     "duration": 0.004824,
     "end_time": "2023-08-04T21:18:48.535324",
     "exception": false,
     "start_time": "2023-08-04T21:18:48.530500",
     "status": "completed"
    },
    "tags": []
   },
   "outputs": [],
   "source": []
  }
 ],
 "metadata": {
  "kernelspec": {
   "display_name": "Python 3",
   "language": "python",
   "name": "python3"
  },
  "language_info": {
   "codemirror_mode": {
    "name": "ipython",
    "version": 3
   },
   "file_extension": ".py",
   "mimetype": "text/x-python",
   "name": "python",
   "nbconvert_exporter": "python",
   "pygments_lexer": "ipython3",
   "version": "3.10.12"
  },
  "papermill": {
   "default_parameters": {},
   "duration": 30.117848,
   "end_time": "2023-08-04T21:18:49.968394",
   "environment_variables": {},
   "exception": null,
   "input_path": "__notebook__.ipynb",
   "output_path": "__notebook__.ipynb",
   "parameters": {},
   "start_time": "2023-08-04T21:18:19.850546",
   "version": "2.4.0"
  }
 },
 "nbformat": 4,
 "nbformat_minor": 5
}
