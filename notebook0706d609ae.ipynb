{
 "cells": [
  {
   "cell_type": "code",
   "execution_count": 1,
   "id": "ba09eff8",
   "metadata": {
    "_cell_guid": "b1076dfc-b9ad-4769-8c92-a6c4dae69d19",
    "_uuid": "8f2839f25d086af736a60e9eeb907d3b93b6e0e5",
    "execution": {
     "iopub.execute_input": "2023-07-26T15:45:10.552316Z",
     "iopub.status.busy": "2023-07-26T15:45:10.551857Z",
     "iopub.status.idle": "2023-07-26T15:45:10.568254Z",
     "shell.execute_reply": "2023-07-26T15:45:10.566797Z"
    },
    "papermill": {
     "duration": 0.026076,
     "end_time": "2023-07-26T15:45:10.572015",
     "exception": false,
     "start_time": "2023-07-26T15:45:10.545939",
     "status": "completed"
    },
    "tags": []
   },
   "outputs": [
    {
     "name": "stdout",
     "output_type": "stream",
     "text": [
      "/kaggle/input/house-prices-advanced-regression-techniques/sample_submission.csv\n",
      "/kaggle/input/house-prices-advanced-regression-techniques/data_description.txt\n",
      "/kaggle/input/house-prices-advanced-regression-techniques/train.csv\n",
      "/kaggle/input/house-prices-advanced-regression-techniques/test.csv\n"
     ]
    }
   ],
   "source": [
    "# This Python 3 environment comes with many helpful analytics libraries installed\n",
    "# It is defined by the kaggle/python Docker image: https://github.com/kaggle/docker-python\n",
    "# For example, here's several helpful packages to load\n",
    "\n",
    "import numpy as np # linear algebra\n",
    "import pandas as pd # data processing, CSV file I/O (e.g. pd.read_csv)\n",
    "\n",
    "# Input data files are available in the read-only \"../input/\" directory\n",
    "# For example, running this (by clicking run or pressing Shift+Enter) will list all files under the input directory\n",
    "\n",
    "import os\n",
    "for dirname, _, filenames in os.walk('/kaggle/input'):\n",
    "    for filename in filenames:\n",
    "        print(os.path.join(dirname, filename))\n",
    "\n",
    "# You can write up to 20GB to the current directory (/kaggle/working/) that gets preserved as output when you create a version using \"Save & Run All\" \n",
    "# You can also write temporary files to /kaggle/temp/, but they won't be saved outside of the current session"
   ]
  },
  {
   "cell_type": "code",
   "execution_count": 2,
   "id": "cbde6433",
   "metadata": {
    "execution": {
     "iopub.execute_input": "2023-07-26T15:45:10.580424Z",
     "iopub.status.busy": "2023-07-26T15:45:10.580010Z",
     "iopub.status.idle": "2023-07-26T15:45:10.706299Z",
     "shell.execute_reply": "2023-07-26T15:45:10.704640Z"
    },
    "papermill": {
     "duration": 0.133599,
     "end_time": "2023-07-26T15:45:10.709241",
     "exception": false,
     "start_time": "2023-07-26T15:45:10.575642",
     "status": "completed"
    },
    "tags": []
   },
   "outputs": [
    {
     "name": "stdout",
     "output_type": "stream",
     "text": [
      "   Id  MSSubClass MSZoning  LotFrontage  LotArea Street Alley LotShape  \\\n",
      "0   1          60       RL         65.0     8450   Pave   NaN      Reg   \n",
      "1   2          20       RL         80.0     9600   Pave   NaN      Reg   \n",
      "2   3          60       RL         68.0    11250   Pave   NaN      IR1   \n",
      "3   4          70       RL         60.0     9550   Pave   NaN      IR1   \n",
      "4   5          60       RL         84.0    14260   Pave   NaN      IR1   \n",
      "\n",
      "  LandContour Utilities  ... PoolArea PoolQC Fence MiscFeature MiscVal MoSold  \\\n",
      "0         Lvl    AllPub  ...        0    NaN   NaN         NaN       0      2   \n",
      "1         Lvl    AllPub  ...        0    NaN   NaN         NaN       0      5   \n",
      "2         Lvl    AllPub  ...        0    NaN   NaN         NaN       0      9   \n",
      "3         Lvl    AllPub  ...        0    NaN   NaN         NaN       0      2   \n",
      "4         Lvl    AllPub  ...        0    NaN   NaN         NaN       0     12   \n",
      "\n",
      "  YrSold  SaleType  SaleCondition  SalePrice  \n",
      "0   2008        WD         Normal     208500  \n",
      "1   2007        WD         Normal     181500  \n",
      "2   2008        WD         Normal     223500  \n",
      "3   2006        WD        Abnorml     140000  \n",
      "4   2008        WD         Normal     250000  \n",
      "\n",
      "[5 rows x 81 columns]\n"
     ]
    },
    {
     "data": {
      "text/plain": [
       "float"
      ]
     },
     "execution_count": 2,
     "metadata": {},
     "output_type": "execute_result"
    }
   ],
   "source": [
    "train = pd.read_csv(\"/kaggle/input/house-prices-advanced-regression-techniques/train.csv\")\n",
    "test = pd.read_csv(\"/kaggle/input/house-prices-advanced-regression-techniques/test.csv\")\n",
    "print(train.head())\n",
    "train.columns\n",
    "set(list(train[\"MSSubClass\"][:]))\n",
    "type(list(train[\"PoolQC\"][:])[0])"
   ]
  },
  {
   "cell_type": "code",
   "execution_count": 3,
   "id": "68a82cd5",
   "metadata": {
    "execution": {
     "iopub.execute_input": "2023-07-26T15:45:10.717883Z",
     "iopub.status.busy": "2023-07-26T15:45:10.717370Z",
     "iopub.status.idle": "2023-07-26T15:45:10.830195Z",
     "shell.execute_reply": "2023-07-26T15:45:10.828028Z"
    },
    "papermill": {
     "duration": 0.120501,
     "end_time": "2023-07-26T15:45:10.833061",
     "exception": false,
     "start_time": "2023-07-26T15:45:10.712560",
     "status": "completed"
    },
    "tags": []
   },
   "outputs": [
    {
     "name": "stdout",
     "output_type": "stream",
     "text": [
      "{'MSZoning': {'RL': 0, 'RM': 1}, 'Street': {'Pave': 0}, 'LotShape': {'IR2': 0, 'Reg': 1, 'IR1': 2}, 'LandContour': {'Lvl': 0}, 'Utilities': {'AllPub': 0}, 'LotConfig': {'Inside': 0, 'Corner': 1, 'FR2': 2}, 'LandSlope': {'Gtl': 0}, 'Neighborhood': {'Veenker': 0, 'NoRidge': 1, 'Somerst': 2, 'Mitchel': 3, 'Sawyer': 4, 'NAmes': 5, 'Crawfor': 6, 'NridgHt': 7, 'BrkSide': 8, 'CollgCr': 9, 'NWAmes': 10, 'OldTown': 11}, 'Condition1': {'Norm': 0, 'Feedr': 1, 'Artery': 2, 'PosN': 3}, 'Condition2': {'Norm': 0, 'Artery': 1}, 'BldgType': {'1Fam': 0, '2fmCon': 1}, 'HouseStyle': {'1.5Unf': 0, '1.5Fin': 1, '1Story': 2, '2Story': 3}, 'RoofStyle': {'Gable': 0, 'Hip': 1}, 'RoofMatl': {'CompShg': 0}, 'Exterior1st': {'MetalSd': 0, 'Wd Sdng': 1, 'VinylSd': 2, 'HdBoard': 3, 'WdShing': 4, 'BrkFace': 5}, 'Exterior2nd': {'MetalSd': 0, 'VinylSd': 1, 'HdBoard': 2, 'Wd Shng': 3, 'Plywood': 4}, 'MasVnrType': {'Stone': 0, 'None': 1, 'BrkFace': 2}, 'ExterQual': {'Gd': 0, 'Ex': 1, 'TA': 2}, 'ExterCond': {'TA': 0}, 'Foundation': {'PConc': 0, 'CBlock': 1, 'BrkTil': 2, 'Wood': 3}, 'BsmtQual': {'Gd': 0, 'Ex': 1, 'TA': 2}, 'BsmtCond': {'Gd': 0, 'TA': 1}, 'BsmtExposure': {'Mn': 0, 'Gd': 1, 'No': 2, 'Av': 3}, 'BsmtFinType1': {'Unf': 0, 'Rec': 1, 'BLQ': 2, 'ALQ': 3, 'GLQ': 4}, 'BsmtFinType2': {'Unf': 0, 'BLQ': 1}, 'Heating': {'GasA': 0}, 'HeatingQC': {'Gd': 0, 'Ex': 1, 'TA': 2}, 'CentralAir': {'Y': 0}, 'Electrical': {'FuseF': 0, 'SBrkr': 1}, 'KitchenQual': {'Gd': 0, 'Ex': 1, 'TA': 2}, 'Functional': {'Min1': 0, 'Typ': 1}, 'FireplaceQu': {'Fa': 0, 'Gd': 1, 'TA': 3}, 'GarageType': {'BuiltIn': 0, 'Detchd': 1, 'Attchd': 2}, 'GarageFinish': {'Unf': 0, 'Fin': 1, 'RFn': 2}, 'GarageQual': {'Fa': 0, 'Gd': 1, 'TA': 2}, 'GarageCond': {'TA': 0}, 'PavedDrive': {'Y': 0}, 'Fence': {'GdWo': 0, 'MnPrv': 2}, 'MiscFeature': {'Shed': 0}, 'SaleType': {'WD': 0, 'New': 1}, 'SaleCondition': {'Abnorml': 0, 'Normal': 1, 'Partial': 2}}\n",
      "    Id  MSSubClass  MSZoning  LotFrontage  LotArea  Street  Alley  LotShape  \\\n",
      "0    1          60         0         65.0     8450       0    NaN         1   \n",
      "1    2          20         0         80.0     9600       0    NaN         1   \n",
      "2    3          60         0         68.0    11250       0    NaN         2   \n",
      "3    4          70         0         60.0     9550       0    NaN         2   \n",
      "4    5          60         0         84.0    14260       0    NaN         2   \n",
      "5    6          50         0         85.0    14115       0    NaN         2   \n",
      "6    7          20         0         75.0    10084       0    NaN         1   \n",
      "7    8          60         0          NaN    10382       0    NaN         2   \n",
      "8    9          50         1         51.0     6120       0    NaN         1   \n",
      "9   10         190         0         50.0     7420       0    NaN         1   \n",
      "10  11          20         0         70.0    11200       0    NaN         1   \n",
      "11  12          60         0         85.0    11924       0    NaN         2   \n",
      "12  13          20         0          NaN    12968       0    NaN         0   \n",
      "13  14          20         0         91.0    10652       0    NaN         2   \n",
      "14  15          20         0          NaN    10920       0    NaN         2   \n",
      "\n",
      "    LandContour  Utilities  ...  PoolArea  PoolQC  Fence  MiscFeature  \\\n",
      "0             0          0  ...         0     NaN    NaN          NaN   \n",
      "1             0          0  ...         0     NaN    NaN          NaN   \n",
      "2             0          0  ...         0     NaN    NaN          NaN   \n",
      "3             0          0  ...         0     NaN    NaN          NaN   \n",
      "4             0          0  ...         0     NaN    NaN          NaN   \n",
      "5             0          0  ...         0     NaN    2.0          0.0   \n",
      "6             0          0  ...         0     NaN    NaN          NaN   \n",
      "7             0          0  ...         0     NaN    NaN          0.0   \n",
      "8             0          0  ...         0     NaN    NaN          NaN   \n",
      "9             0          0  ...         0     NaN    NaN          NaN   \n",
      "10            0          0  ...         0     NaN    NaN          NaN   \n",
      "11            0          0  ...         0     NaN    NaN          NaN   \n",
      "12            0          0  ...         0     NaN    NaN          NaN   \n",
      "13            0          0  ...         0     NaN    NaN          NaN   \n",
      "14            0          0  ...         0     NaN    0.0          NaN   \n",
      "\n",
      "    MiscVal  MoSold  YrSold  SaleType  SaleCondition  SalePrice  \n",
      "0         0       2    2008         0              1     208500  \n",
      "1         0       5    2007         0              1     181500  \n",
      "2         0       9    2008         0              1     223500  \n",
      "3         0       2    2006         0              0     140000  \n",
      "4         0      12    2008         0              1     250000  \n",
      "5       700      10    2009         0              1     143000  \n",
      "6         0       8    2007         0              1     307000  \n",
      "7       350      11    2009         0              1     200000  \n",
      "8         0       4    2008         0              0     129900  \n",
      "9         0       1    2008         0              1     118000  \n",
      "10        0       2    2008         0              1     129500  \n",
      "11        0       7    2006         1              2     345000  \n",
      "12        0       9    2008         0              1     144000  \n",
      "13        0       8    2007         1              2     279500  \n",
      "14        0       5    2008         0              1     157000  \n",
      "\n",
      "[15 rows x 81 columns]\n"
     ]
    }
   ],
   "source": [
    "def data_prep_dict(dataFrame):\n",
    "    columns = dataFrame.columns\n",
    "    getUniqVals = lambda column : set(list(column))\n",
    "    dataFrameDict = {}\n",
    "    for column in columns:\n",
    "        columnUniqVals = getUniqVals(dataFrame.loc[:, column])\n",
    "        auxDict = {}\n",
    "        for (idx, val) in enumerate(columnUniqVals):\n",
    "            if (type(val) == str or val == float(\"NaN\")):\n",
    "                auxDict[str(val)] = idx \n",
    "        dataFrameDict[column] = auxDict\n",
    "    \n",
    "    for column in columns:\n",
    "        if dataFrameDict[column] == {}:\n",
    "            dataFrameDict.pop(column)\n",
    "        \n",
    "        \n",
    "    return dataFrameDict\n",
    "\n",
    "print(data_prep_dict(train.head(15)))\n",
    "trainDict = data_prep_dict(train.head(15))\n",
    "\n",
    "def data_prep(dataFrame, dataFrameDict):\n",
    "    dataFrameDictCollapsed = {}\n",
    "    for key in list(dataFrameDict.keys()):\n",
    "        dataFrameDictCollapsed.update(dataFrameDict[key])\n",
    "    dataFrame = dataFrame.replace(dataFrameDictCollapsed)\n",
    "    return dataFrame\n",
    "\n",
    "print(data_prep(train.head(15), trainDict))"
   ]
  },
  {
   "cell_type": "code",
   "execution_count": null,
   "id": "0d960d94",
   "metadata": {
    "papermill": {
     "duration": 0.003095,
     "end_time": "2023-07-26T15:45:10.840085",
     "exception": false,
     "start_time": "2023-07-26T15:45:10.836990",
     "status": "completed"
    },
    "tags": []
   },
   "outputs": [],
   "source": []
  }
 ],
 "metadata": {
  "kernelspec": {
   "display_name": "Python 3",
   "language": "python",
   "name": "python3"
  },
  "language_info": {
   "codemirror_mode": {
    "name": "ipython",
    "version": 3
   },
   "file_extension": ".py",
   "mimetype": "text/x-python",
   "name": "python",
   "nbconvert_exporter": "python",
   "pygments_lexer": "ipython3",
   "version": "3.10.12"
  },
  "papermill": {
   "default_parameters": {},
   "duration": 15.599991,
   "end_time": "2023-07-26T15:45:11.768956",
   "environment_variables": {},
   "exception": null,
   "input_path": "__notebook__.ipynb",
   "output_path": "__notebook__.ipynb",
   "parameters": {},
   "start_time": "2023-07-26T15:44:56.168965",
   "version": "2.4.0"
  }
 },
 "nbformat": 4,
 "nbformat_minor": 5
}
