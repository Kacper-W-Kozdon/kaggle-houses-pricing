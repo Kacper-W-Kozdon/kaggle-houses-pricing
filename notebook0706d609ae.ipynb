{
 "cells": [
  {
   "cell_type": "code",
   "execution_count": 1,
   "id": "1fb5eb2c",
   "metadata": {
    "_cell_guid": "b1076dfc-b9ad-4769-8c92-a6c4dae69d19",
    "_uuid": "8f2839f25d086af736a60e9eeb907d3b93b6e0e5",
    "execution": {
     "iopub.execute_input": "2023-07-23T17:10:32.206860Z",
     "iopub.status.busy": "2023-07-23T17:10:32.206445Z",
     "iopub.status.idle": "2023-07-23T17:10:32.222609Z",
     "shell.execute_reply": "2023-07-23T17:10:32.221349Z"
    },
    "papermill": {
     "duration": 0.023761,
     "end_time": "2023-07-23T17:10:32.225344",
     "exception": false,
     "start_time": "2023-07-23T17:10:32.201583",
     "status": "completed"
    },
    "tags": []
   },
   "outputs": [
    {
     "name": "stdout",
     "output_type": "stream",
     "text": [
      "/kaggle/input/house-prices-advanced-regression-techniques/sample_submission.csv\n",
      "/kaggle/input/house-prices-advanced-regression-techniques/data_description.txt\n",
      "/kaggle/input/house-prices-advanced-regression-techniques/train.csv\n",
      "/kaggle/input/house-prices-advanced-regression-techniques/test.csv\n"
     ]
    }
   ],
   "source": [
    "# This Python 3 environment comes with many helpful analytics libraries installed\n",
    "# It is defined by the kaggle/python Docker image: https://github.com/kaggle/docker-python\n",
    "# For example, here's several helpful packages to load\n",
    "\n",
    "import numpy as np # linear algebra\n",
    "import pandas as pd # data processing, CSV file I/O (e.g. pd.read_csv)\n",
    "\n",
    "# Input data files are available in the read-only \"../input/\" directory\n",
    "# For example, running this (by clicking run or pressing Shift+Enter) will list all files under the input directory\n",
    "\n",
    "import os\n",
    "for dirname, _, filenames in os.walk('/kaggle/input'):\n",
    "    for filename in filenames:\n",
    "        print(os.path.join(dirname, filename))\n",
    "\n",
    "# You can write up to 20GB to the current directory (/kaggle/working/) that gets preserved as output when you create a version using \"Save & Run All\" \n",
    "# You can also write temporary files to /kaggle/temp/, but they won't be saved outside of the current session"
   ]
  },
  {
   "cell_type": "code",
   "execution_count": 2,
   "id": "10bf690e",
   "metadata": {
    "execution": {
     "iopub.execute_input": "2023-07-23T17:10:32.232722Z",
     "iopub.status.busy": "2023-07-23T17:10:32.232305Z",
     "iopub.status.idle": "2023-07-23T17:10:32.344680Z",
     "shell.execute_reply": "2023-07-23T17:10:32.343554Z"
    },
    "papermill": {
     "duration": 0.119232,
     "end_time": "2023-07-23T17:10:32.347451",
     "exception": false,
     "start_time": "2023-07-23T17:10:32.228219",
     "status": "completed"
    },
    "tags": []
   },
   "outputs": [
    {
     "name": "stdout",
     "output_type": "stream",
     "text": [
      "   Id  MSSubClass MSZoning  LotFrontage  LotArea Street Alley LotShape  \\\n",
      "0   1          60       RL         65.0     8450   Pave   NaN      Reg   \n",
      "1   2          20       RL         80.0     9600   Pave   NaN      Reg   \n",
      "2   3          60       RL         68.0    11250   Pave   NaN      IR1   \n",
      "3   4          70       RL         60.0     9550   Pave   NaN      IR1   \n",
      "4   5          60       RL         84.0    14260   Pave   NaN      IR1   \n",
      "\n",
      "  LandContour Utilities  ... PoolArea PoolQC Fence MiscFeature MiscVal MoSold  \\\n",
      "0         Lvl    AllPub  ...        0    NaN   NaN         NaN       0      2   \n",
      "1         Lvl    AllPub  ...        0    NaN   NaN         NaN       0      5   \n",
      "2         Lvl    AllPub  ...        0    NaN   NaN         NaN       0      9   \n",
      "3         Lvl    AllPub  ...        0    NaN   NaN         NaN       0      2   \n",
      "4         Lvl    AllPub  ...        0    NaN   NaN         NaN       0     12   \n",
      "\n",
      "  YrSold  SaleType  SaleCondition  SalePrice  \n",
      "0   2008        WD         Normal     208500  \n",
      "1   2007        WD         Normal     181500  \n",
      "2   2008        WD         Normal     223500  \n",
      "3   2006        WD        Abnorml     140000  \n",
      "4   2008        WD         Normal     250000  \n",
      "\n",
      "[5 rows x 81 columns]\n"
     ]
    },
    {
     "data": {
      "text/plain": [
       "{20, 30, 40, 45, 50, 60, 70, 75, 80, 85, 90, 120, 160, 180, 190}"
      ]
     },
     "execution_count": 2,
     "metadata": {},
     "output_type": "execute_result"
    }
   ],
   "source": [
    "train = pd.read_csv(\"/kaggle/input/house-prices-advanced-regression-techniques/train.csv\")\n",
    "test = pd.read_csv(\"/kaggle/input/house-prices-advanced-regression-techniques/test.csv\")\n",
    "print(train.head())\n",
    "train.columns\n",
    "set(list(train[\"MSSubClass\"][:]))"
   ]
  },
  {
   "cell_type": "code",
   "execution_count": 3,
   "id": "01c58d4d",
   "metadata": {
    "execution": {
     "iopub.execute_input": "2023-07-23T17:10:32.355393Z",
     "iopub.status.busy": "2023-07-23T17:10:32.354609Z",
     "iopub.status.idle": "2023-07-23T17:10:32.370785Z",
     "shell.execute_reply": "2023-07-23T17:10:32.369705Z"
    },
    "papermill": {
     "duration": 0.023067,
     "end_time": "2023-07-23T17:10:32.373406",
     "exception": false,
     "start_time": "2023-07-23T17:10:32.350339",
     "status": "completed"
    },
    "tags": []
   },
   "outputs": [
    {
     "name": "stdout",
     "output_type": "stream",
     "text": [
      "{'Id': {'1': 0, '2': 1, '3': 2, '4': 3, '5': 4, '6': 5, '7': 6, '8': 7, '9': 8, '10': 9, '11': 10, '12': 11, '13': 12, '14': 13, '15': 14}, 'MSSubClass': {'70': 0, '50': 1, '20': 2, '60': 3, '190': 4}, 'MSZoning': {'RL': 0, 'RM': 1}, 'LotFrontage': {'65.0': 0, 'nan': 7, '68.0': 2, '70.0': 4, '75.0': 5, '80.0': 6, '50.0': 8, '51.0': 9, '84.0': 10, '85.0': 11, '91.0': 12, '60.0': 13}, 'LotArea': {'9600': 0, '11200': 1, '8450': 2, '14115': 3, '10084': 4, '6120': 5, '12968': 6, '10920': 7, '9550': 8, '10382': 9, '11250': 10, '14260': 11, '11924': 12, '10652': 13, '7420': 14}, 'Street': {'Pave': 0}, 'Alley': {'nan': 0}, 'LotShape': {'Reg': 0, 'IR1': 1, 'IR2': 2}, 'LandContour': {'Lvl': 0}, 'Utilities': {'AllPub': 0}, 'LotConfig': {'FR2': 0, 'Inside': 1, 'Corner': 2}, 'LandSlope': {'Gtl': 0}, 'Neighborhood': {'NoRidge': 0, 'NAmes': 1, 'Sawyer': 2, 'Somerst': 3, 'Mitchel': 4, 'OldTown': 5, 'Veenker': 6, 'Crawfor': 7, 'BrkSide': 8, 'NridgHt': 9, 'CollgCr': 10, 'NWAmes': 11}, 'Condition1': {'Artery': 0, 'Feedr': 1, 'PosN': 2, 'Norm': 3}, 'Condition2': {'Artery': 0, 'Norm': 1}, 'BldgType': {'2fmCon': 0, '1Fam': 1}, 'HouseStyle': {'1.5Unf': 0, '2Story': 1, '1Story': 2, '1.5Fin': 3}, 'OverallQual': {'5': 0, '6': 1, '7': 2, '8': 3, '9': 4}, 'OverallCond': {'8': 0, '5': 1, '6': 2}, 'YearBuilt': {'1960': 0, '1993': 1, '1962': 2, '1931': 3, '1965': 4, '2000': 5, '2001': 6, '2003': 7, '2004': 8, '1973': 9, '1939': 10, '2005': 11, '1976': 12, '2006': 13, '1915': 14}, 'YearRemodAdd': {'1960': 0, '1962': 1, '1995': 2, '1965': 3, '2000': 4, '1970': 5, '2002': 6, '2003': 7, '2005': 8, '1973': 9, '2006': 10, '1976': 11, '2007': 12, '1950': 13}, 'RoofStyle': {'Gable': 0, 'Hip': 1}, 'RoofMatl': {'CompShg': 0}, 'Exterior1st': {'Wd Sdng': 0, 'VinylSd': 1, 'WdShing': 2, 'HdBoard': 3, 'BrkFace': 4, 'MetalSd': 5}, 'Exterior2nd': {'Plywood': 0, 'VinylSd': 1, 'HdBoard': 2, 'Wd Shng': 3, 'MetalSd': 4}, 'MasVnrType': {'None': 0, 'BrkFace': 1, 'Stone': 2}, 'MasVnrArea': {'0.0': 0, '162.0': 1, '196.0': 2, '240.0': 3, '306.0': 4, '212.0': 5, '186.0': 6, '350.0': 7, '286.0': 8}, 'ExterQual': {'Gd': 0, 'TA': 1, 'Ex': 2}, 'ExterCond': {'TA': 0}, 'Foundation': {'CBlock': 0, 'Wood': 1, 'PConc': 2, 'BrkTil': 3}, 'BsmtQual': {'Gd': 0, 'TA': 1, 'Ex': 2}, 'BsmtCond': {'Gd': 0, 'TA': 1}, 'BsmtExposure': {'No': 0, 'Gd': 1, 'Av': 2, 'Mn': 3}, 'BsmtFinType1': {'ALQ': 0, 'Unf': 1, 'GLQ': 2, 'Rec': 3, 'BLQ': 4}, 'BsmtFinSF1': {'0': 0, '737': 1, '706': 2, '486': 3, '998': 4, '906': 5, '655': 6, '978': 7, '851': 8, '216': 9, '1369': 10, '859': 11, '732': 12, '733': 13}, 'BsmtFinType2': {'Unf': 0, 'BLQ': 1}, 'BsmtFinSF2': {'0': 0, '32': 1}, 'BsmtUnfSF': {'64': 0, '134': 1, '520': 2, '490': 3, '140': 4, '175': 5, '177': 6, '434': 7, '150': 8, '952': 9, '216': 10, '1494': 11, '317': 12, '284': 13, '540': 14}, 'TotalBsmtSF': {'1253': 0, '1262': 1, '1040': 2, '912': 3, '1107': 4, '756': 5, '920': 6, '1686': 7, '952': 8, '856': 9, '1145': 10, '1175': 11, '1494': 12, '796': 13, '991': 14}, 'Heating': {'GasA': 0}, 'HeatingQC': {'Gd': 0, 'TA': 1, 'Ex': 2}, 'CentralAir': {'Y': 0}, 'Electrical': {'FuseF': 0, 'SBrkr': 1}, '1stFlrSF': {'961': 0, '1253': 1, '1262': 2, '1040': 3, '912': 4, '1107': 5, '920': 6, '1022': 7, '1077': 8, '856': 9, '1145': 10, '1494': 11, '1182': 12, '796': 13, '1694': 14}, '2ndFlrSF': {'0': 0, '866': 1, '752': 2, '983': 3, '756': 4, '854': 5, '566': 6, '1142': 7, '1053': 8}, 'LowQualFinSF': {'0': 0}, 'GrLivArea': {'1253': 0, '2090': 1, '1262': 2, '1710': 3, '1774': 4, '1040': 5, '1362': 6, '912': 7, '2324': 8, '1717': 9, '2198': 10, '1077': 11, '1494': 12, '1786': 13, '1694': 14}, 'BsmtFullBath': {'0': 0, '1': 1}, 'BsmtHalfBath': {'0': 0, '1': 1}, 'FullBath': {'1': 0, '2': 1, '3': 2}, 'HalfBath': {'0': 0, '1': 1}, 'BedroomAbvGr': {'1': 0, '2': 1, '3': 2, '4': 3}, 'KitchenAbvGr': {'1': 0, '2': 1}, 'KitchenQual': {'Gd': 0, 'TA': 1, 'Ex': 2}, 'TotRmsAbvGrd': {'4': 0, '5': 1, '6': 2, '7': 3, '8': 4, '9': 5, '11': 6}, 'Functional': {'Min1': 0, 'Typ': 1}, 'Fireplaces': {'0': 0, '1': 1, '2': 2}, 'FireplaceQu': {'Gd': 0, 'TA': 1, 'nan': 2, 'Fa': 3}, 'GarageType': {'Attchd': 0, 'Detchd': 1, 'BuiltIn': 2}, 'GarageYrBlt': {'1960.0': 0, '1993.0': 1, '1962.0': 2, '1931.0': 3, '1965.0': 4, '1998.0': 5, '2000.0': 6, '2001.0': 7, '2003.0': 8, '2004.0': 9, '1973.0': 10, '1939.0': 11, '2005.0': 12, '1976.0': 13, '2006.0': 14}, 'GarageFinish': {'Unf': 0, 'RFn': 1, 'Fin': 2}, 'GarageCars': {'1': 0, '2': 1, '3': 2}, 'GarageArea': {'608': 0, '480': 1, '642': 2, '384': 3, '548': 4, '836': 5, '484': 6, '736': 7, '352': 8, '840': 9, '460': 10, '205': 11, '468': 12, '636': 13}, 'GarageQual': {'Gd': 0, 'TA': 1, 'Fa': 2}, 'GarageCond': {'TA': 0}, 'PavedDrive': {'Y': 0}, 'WoodDeckSF': {'0': 0, '192': 1, '160': 2, '40': 3, '298': 4, '235': 5, '140': 6, '147': 7, '90': 8, '255': 9}, 'OpenPorchSF': {'0': 0, '33': 1, '35': 2, '4': 3, '42': 4, '204': 5, '84': 6, '21': 7, '213': 8, '57': 9, '61': 10, '30': 11}, 'EnclosedPorch': {'0': 0, '228': 1, '205': 2, '272': 3, '176': 4}, '3SsnPorch': {'0': 0, '320': 1}, 'ScreenPorch': {'0': 0, '176': 1}, 'PoolArea': {'0': 0}, 'PoolQC': {'nan': 0}, 'Fence': {'nan': 0, 'MnPrv': 1, 'GdWo': 2}, 'MiscFeature': {'nan': 0, 'Shed': 1}, 'MiscVal': {'0': 0, '700': 1, '350': 2}, 'MoSold': {'1': 0, '2': 1, '4': 2, '5': 3, '7': 4, '8': 5, '9': 6, '10': 7, '11': 8, '12': 9}, 'YrSold': {'2008': 0, '2009': 1, '2006': 2, '2007': 3}, 'SaleType': {'WD': 0, 'New': 1}, 'SaleCondition': {'Normal': 0, 'Partial': 1, 'Abnorml': 2}, 'SalePrice': {'140000': 0, '200000': 1, '144000': 2, '345000': 3, '157000': 4, '223500': 5, '129900': 6, '279500': 7, '250000': 8, '118000': 9, '307000': 10, '208500': 11, '143000': 12, '129500': 13, '181500': 14}}\n"
     ]
    }
   ],
   "source": [
    "def data_prep_dict(dataFrame):\n",
    "    columns = dataFrame.columns\n",
    "    getUniqVals = lambda column : set(list(column))\n",
    "    dataFrameDict = {}\n",
    "    for column in columns:\n",
    "        columnUniqVals = getUniqVals(dataFrame.loc[:, column])\n",
    "        auxDict = {}\n",
    "        for (idx, val) in enumerate(columnUniqVals):\n",
    "            auxDict[str(val)] = idx\n",
    "        dataFrameDict[column] = auxDict\n",
    "        \n",
    "    return dataFrameDict\n",
    "\n",
    "print(data_prep_dict(train.head(15)))"
   ]
  },
  {
   "cell_type": "code",
   "execution_count": null,
   "id": "94632db6",
   "metadata": {
    "papermill": {
     "duration": 0.002802,
     "end_time": "2023-07-23T17:10:32.379299",
     "exception": false,
     "start_time": "2023-07-23T17:10:32.376497",
     "status": "completed"
    },
    "tags": []
   },
   "outputs": [],
   "source": []
  }
 ],
 "metadata": {
  "kernelspec": {
   "display_name": "Python 3",
   "language": "python",
   "name": "python3"
  },
  "language_info": {
   "codemirror_mode": {
    "name": "ipython",
    "version": 3
   },
   "file_extension": ".py",
   "mimetype": "text/x-python",
   "name": "python",
   "nbconvert_exporter": "python",
   "pygments_lexer": "ipython3",
   "version": "3.10.12"
  },
  "papermill": {
   "default_parameters": {},
   "duration": 12.853089,
   "end_time": "2023-07-23T17:10:33.306267",
   "environment_variables": {},
   "exception": null,
   "input_path": "__notebook__.ipynb",
   "output_path": "__notebook__.ipynb",
   "parameters": {},
   "start_time": "2023-07-23T17:10:20.453178",
   "version": "2.4.0"
  }
 },
 "nbformat": 4,
 "nbformat_minor": 5
}
