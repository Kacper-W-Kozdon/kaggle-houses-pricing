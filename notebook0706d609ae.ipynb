{
 "cells": [
  {
   "cell_type": "code",
   "execution_count": 1,
   "id": "e8330a27",
   "metadata": {
    "_cell_guid": "b1076dfc-b9ad-4769-8c92-a6c4dae69d19",
    "_uuid": "8f2839f25d086af736a60e9eeb907d3b93b6e0e5",
    "execution": {
     "iopub.execute_input": "2023-07-31T17:46:11.917238Z",
     "iopub.status.busy": "2023-07-31T17:46:11.916139Z",
     "iopub.status.idle": "2023-07-31T17:46:13.549267Z",
     "shell.execute_reply": "2023-07-31T17:46:13.548050Z"
    },
    "papermill": {
     "duration": 1.64041,
     "end_time": "2023-07-31T17:46:13.552091",
     "exception": false,
     "start_time": "2023-07-31T17:46:11.911681",
     "status": "completed"
    },
    "tags": []
   },
   "outputs": [
    {
     "name": "stderr",
     "output_type": "stream",
     "text": [
      "/opt/conda/lib/python3.10/site-packages/scipy/__init__.py:146: UserWarning: A NumPy version >=1.16.5 and <1.23.0 is required for this version of SciPy (detected version 1.23.5\n",
      "  warnings.warn(f\"A NumPy version >={np_minversion} and <{np_maxversion}\"\n"
     ]
    },
    {
     "name": "stdout",
     "output_type": "stream",
     "text": [
      "/kaggle/input/house-prices-advanced-regression-techniques/sample_submission.csv\n",
      "/kaggle/input/house-prices-advanced-regression-techniques/data_description.txt\n",
      "/kaggle/input/house-prices-advanced-regression-techniques/train.csv\n",
      "/kaggle/input/house-prices-advanced-regression-techniques/test.csv\n"
     ]
    }
   ],
   "source": [
    "# This Python 3 environment comes with many helpful analytics libraries installed\n",
    "# It is defined by the kaggle/python Docker image: https://github.com/kaggle/docker-python\n",
    "# For example, here's several helpful packages to load\n",
    "\n",
    "__requires__= 'numpy==1.22.3'\n",
    "import numpy as np # linear algebra\n",
    "import pandas as pd # data processing, CSV file I/O (e.g. pd.read_csv)\n",
    "import math\n",
    "import graphviz \n",
    "import sklearn\n",
    "from sklearn import tree\n",
    "\n",
    "# Input data files are available in the read-only \"../input/\" directory\n",
    "# For example, running this (by clicking run or pressing Shift+Enter) will list all files under the input directory\n",
    "\n",
    "import os\n",
    "for dirname, _, filenames in os.walk('/kaggle/input'):\n",
    "    for filename in filenames:\n",
    "        print(os.path.join(dirname, filename))\n",
    "\n",
    "# You can write up to 20GB to the current directory (/kaggle/working/) that gets preserved as output when you create a version using \"Save & Run All\" \n",
    "# You can also write temporary files to /kaggle/temp/, but they won't be saved outside of the current session"
   ]
  },
  {
   "cell_type": "code",
   "execution_count": 2,
   "id": "9eae6b91",
   "metadata": {
    "execution": {
     "iopub.execute_input": "2023-07-31T17:46:13.559729Z",
     "iopub.status.busy": "2023-07-31T17:46:13.558753Z",
     "iopub.status.idle": "2023-07-31T17:46:13.661536Z",
     "shell.execute_reply": "2023-07-31T17:46:13.660703Z"
    },
    "papermill": {
     "duration": 0.108785,
     "end_time": "2023-07-31T17:46:13.663760",
     "exception": false,
     "start_time": "2023-07-31T17:46:13.554975",
     "status": "completed"
    },
    "tags": []
   },
   "outputs": [
    {
     "name": "stdout",
     "output_type": "stream",
     "text": [
      "   Id  MSSubClass MSZoning  LotFrontage  LotArea Street Alley LotShape  \\\n",
      "0   1          60       RL         65.0     8450   Pave   NaN      Reg   \n",
      "1   2          20       RL         80.0     9600   Pave   NaN      Reg   \n",
      "2   3          60       RL         68.0    11250   Pave   NaN      IR1   \n",
      "3   4          70       RL         60.0     9550   Pave   NaN      IR1   \n",
      "4   5          60       RL         84.0    14260   Pave   NaN      IR1   \n",
      "\n",
      "  LandContour Utilities  ... PoolArea PoolQC Fence MiscFeature MiscVal MoSold  \\\n",
      "0         Lvl    AllPub  ...        0    NaN   NaN         NaN       0      2   \n",
      "1         Lvl    AllPub  ...        0    NaN   NaN         NaN       0      5   \n",
      "2         Lvl    AllPub  ...        0    NaN   NaN         NaN       0      9   \n",
      "3         Lvl    AllPub  ...        0    NaN   NaN         NaN       0      2   \n",
      "4         Lvl    AllPub  ...        0    NaN   NaN         NaN       0     12   \n",
      "\n",
      "  YrSold  SaleType  SaleCondition  SalePrice  \n",
      "0   2008        WD         Normal     208500  \n",
      "1   2007        WD         Normal     181500  \n",
      "2   2008        WD         Normal     223500  \n",
      "3   2006        WD        Abnorml     140000  \n",
      "4   2008        WD         Normal     250000  \n",
      "\n",
      "[5 rows x 81 columns]\n"
     ]
    },
    {
     "data": {
      "text/plain": [
       "float"
      ]
     },
     "execution_count": 2,
     "metadata": {},
     "output_type": "execute_result"
    }
   ],
   "source": [
    "train = pd.read_csv(\"/kaggle/input/house-prices-advanced-regression-techniques/train.csv\")\n",
    "test = pd.read_csv(\"/kaggle/input/house-prices-advanced-regression-techniques/test.csv\")\n",
    "print(train.head())\n",
    "train.columns\n",
    "set(list(train[\"MSSubClass\"][:]))\n",
    "type(list(train[\"PoolQC\"][:])[0])"
   ]
  },
  {
   "cell_type": "code",
   "execution_count": 3,
   "id": "fdbd406b",
   "metadata": {
    "execution": {
     "iopub.execute_input": "2023-07-31T17:46:13.671699Z",
     "iopub.status.busy": "2023-07-31T17:46:13.670557Z",
     "iopub.status.idle": "2023-07-31T17:46:13.798505Z",
     "shell.execute_reply": "2023-07-31T17:46:13.797273Z"
    },
    "papermill": {
     "duration": 0.134529,
     "end_time": "2023-07-31T17:46:13.801128",
     "exception": false,
     "start_time": "2023-07-31T17:46:13.666599",
     "status": "completed"
    },
    "tags": []
   },
   "outputs": [
    {
     "name": "stdout",
     "output_type": "stream",
     "text": [
      "{'MSZoning': {'RL': 0, 'RM': 1}, 'LotFrontage': {nan: 3, nan: 10, nan: 13}, 'Street': {'Pave': 0}, 'Alley': {nan: 0}, 'LotShape': {'Reg': 0, 'IR2': 1, 'IR1': 2}, 'LandContour': {'Lvl': 0}, 'Utilities': {'AllPub': 0}, 'LotConfig': {'FR2': 0, 'Corner': 1, 'Inside': 2}, 'LandSlope': {'Gtl': 0}, 'Neighborhood': {'Sawyer': 0, 'Mitchel': 1, 'OldTown': 2, 'NWAmes': 3, 'NoRidge': 4, 'Somerst': 5, 'NAmes': 6, 'BrkSide': 7, 'Veenker': 8, 'CollgCr': 9, 'Crawfor': 10, 'NridgHt': 11}, 'Condition1': {'Norm': 0, 'Artery': 1, 'Feedr': 2, 'PosN': 3}, 'Condition2': {'Norm': 0, 'Artery': 1}, 'BldgType': {'2fmCon': 0, '1Fam': 1}, 'HouseStyle': {'1Story': 0, '1.5Fin': 1, '1.5Unf': 2, '2Story': 3}, 'RoofStyle': {'Gable': 0, 'Hip': 1}, 'RoofMatl': {'CompShg': 0}, 'Exterior1st': {'WdShing': 0, 'MetalSd': 1, 'Wd Sdng': 2, 'VinylSd': 3, 'HdBoard': 4, 'BrkFace': 5}, 'Exterior2nd': {'Plywood': 0, 'MetalSd': 1, 'VinylSd': 2, 'HdBoard': 3, 'Wd Shng': 4}, 'MasVnrType': {'BrkFace': 0, 'Stone': 1, 'None': 2}, 'ExterQual': {'Ex': 0, 'Gd': 1, 'TA': 2}, 'ExterCond': {'TA': 0}, 'Foundation': {'BrkTil': 0, 'Wood': 1, 'PConc': 2, 'CBlock': 3}, 'BsmtQual': {'Ex': 0, 'Gd': 1, 'TA': 2}, 'BsmtCond': {'Gd': 0, 'TA': 1}, 'BsmtExposure': {'Mn': 0, 'No': 1, 'Gd': 2, 'Av': 3}, 'BsmtFinType1': {'Unf': 0, 'BLQ': 1, 'ALQ': 2, 'Rec': 3, 'GLQ': 4}, 'BsmtFinType2': {'Unf': 0, 'BLQ': 1}, 'Heating': {'GasA': 0}, 'HeatingQC': {'Gd': 0, 'Ex': 1, 'TA': 2}, 'CentralAir': {'Y': 0}, 'Electrical': {'FuseF': 0, 'SBrkr': 1}, 'KitchenQual': {'Ex': 0, 'Gd': 1, 'TA': 2}, 'Functional': {'Typ': 0, 'Min1': 1}, 'FireplaceQu': {'Gd': 0, nan: 1, 'Fa': 2, 'TA': 3}, 'GarageType': {'Attchd': 0, 'BuiltIn': 1, 'Detchd': 2}, 'GarageFinish': {'Unf': 0, 'RFn': 1, 'Fin': 2}, 'GarageQual': {'Gd': 0, 'Fa': 1, 'TA': 2}, 'GarageCond': {'TA': 0}, 'PavedDrive': {'Y': 0}, 'PoolQC': {nan: 0}, 'Fence': {'GdWo': 0, nan: 1, 'MnPrv': 2}, 'MiscFeature': {'Shed': 0, nan: 1}, 'SaleType': {'New': 0, 'WD': 1}, 'SaleCondition': {'Normal': 0, 'Abnorml': 1, 'Partial': 2}}\n",
      "(    Id  MSSubClass  MSZoning  LotFrontage  LotArea  Street  Alley  LotShape  \\\n",
      "0    1          60         0         65.0     8450       0    1.0         0   \n",
      "1    2          20         0         80.0     9600       0    1.0         0   \n",
      "2    3          60         0         68.0    11250       0    1.0         2   \n",
      "3    4          70         0         60.0     9550       0    1.0         2   \n",
      "4    5          60         0         84.0    14260       0    1.0         2   \n",
      "5    6          50         0         85.0    14115       0    1.0         2   \n",
      "6    7          20         0         75.0    10084       0    1.0         0   \n",
      "7    8          60         0          1.0    10382       0    1.0         2   \n",
      "8    9          50         1         51.0     6120       0    1.0         0   \n",
      "9   10         190         0         50.0     7420       0    1.0         0   \n",
      "10  11          20         0         70.0    11200       0    1.0         0   \n",
      "11  12          60         0         85.0    11924       0    1.0         2   \n",
      "12  13          20         0          1.0    12968       0    1.0         1   \n",
      "13  14          20         0         91.0    10652       0    1.0         2   \n",
      "14  15          20         0          1.0    10920       0    1.0         2   \n",
      "\n",
      "    LandContour  Utilities  ...  ScreenPorch  PoolArea  PoolQC  Fence  \\\n",
      "0             0          0  ...            0         0     1.0      1   \n",
      "1             0          0  ...            0         0     1.0      1   \n",
      "2             0          0  ...            0         0     1.0      1   \n",
      "3             0          0  ...            0         0     1.0      1   \n",
      "4             0          0  ...            0         0     1.0      1   \n",
      "5             0          0  ...            0         0     1.0      2   \n",
      "6             0          0  ...            0         0     1.0      1   \n",
      "7             0          0  ...            0         0     1.0      1   \n",
      "8             0          0  ...            0         0     1.0      1   \n",
      "9             0          0  ...            0         0     1.0      1   \n",
      "10            0          0  ...            0         0     1.0      1   \n",
      "11            0          0  ...            0         0     1.0      1   \n",
      "12            0          0  ...          176         0     1.0      1   \n",
      "13            0          0  ...            0         0     1.0      1   \n",
      "14            0          0  ...            0         0     1.0      0   \n",
      "\n",
      "    MiscFeature  MiscVal  MoSold  YrSold  SaleType  SaleCondition  \n",
      "0             1        0       2    2008         1              0  \n",
      "1             1        0       5    2007         1              0  \n",
      "2             1        0       9    2008         1              0  \n",
      "3             1        0       2    2006         1              1  \n",
      "4             1        0      12    2008         1              0  \n",
      "5             0      700      10    2009         1              0  \n",
      "6             1        0       8    2007         1              0  \n",
      "7             0      350      11    2009         1              0  \n",
      "8             1        0       4    2008         1              1  \n",
      "9             1        0       1    2008         1              0  \n",
      "10            1        0       2    2008         1              0  \n",
      "11            1        0       7    2006         0              2  \n",
      "12            1        0       9    2008         1              0  \n",
      "13            1        0       8    2007         0              2  \n",
      "14            1        0       5    2008         1              0  \n",
      "\n",
      "[15 rows x 80 columns], 0     208500\n",
      "1     181500\n",
      "2     223500\n",
      "3     140000\n",
      "4     250000\n",
      "5     143000\n",
      "6     307000\n",
      "7     200000\n",
      "8     129900\n",
      "9     118000\n",
      "10    129500\n",
      "11    345000\n",
      "12    144000\n",
      "13    279500\n",
      "14    157000\n",
      "Name: SalePrice, dtype: int64)\n"
     ]
    }
   ],
   "source": [
    "def data_prep_dict(dataFrame):\n",
    "    columns = dataFrame.columns\n",
    "    getUniqVals = lambda column : set(list(column))\n",
    "    dataFrameDict = {}\n",
    "    for column in columns:\n",
    "        columnUniqVals = getUniqVals(dataFrame.loc[:, column])\n",
    "        auxDict = {}\n",
    "        for (idx, val) in enumerate(columnUniqVals):\n",
    "            if type(val) == str:\n",
    "                auxDict[str(val)] = idx \n",
    "            try:\n",
    "                if math.isnan(val):\n",
    "                    auxDict[val] = idx\n",
    "            except:\n",
    "                pass\n",
    "        dataFrameDict[column] = auxDict\n",
    "    \n",
    "    for column in columns:\n",
    "        if dataFrameDict[column] == {}:\n",
    "            dataFrameDict.pop(column)\n",
    "        \n",
    "        \n",
    "    return dataFrameDict\n",
    "\n",
    "print(data_prep_dict(train.head(15)))\n",
    "trainDict = data_prep_dict(train.head(15))\n",
    "\n",
    "def data_prep(dataFrame, dataFrameDict):\n",
    "    dataFrameDictCollapsed = {}\n",
    "    for key in list(dataFrameDict.keys()):\n",
    "        dataFrameDictCollapsed.update(dataFrameDict[key])\n",
    "    dataFrame = dataFrame.replace(dataFrameDictCollapsed)\n",
    "    X = dataFrame.loc[:, \"Id\":\"SaleCondition\"]\n",
    "    Y = dataFrame.loc[:, \"SalePrice\"]\n",
    "    return X, Y\n",
    "\n",
    "print(data_prep(train.head(15), trainDict))\n",
    "XTrainHead, YTrainHead = data_prep(train.head(15), trainDict)"
   ]
  },
  {
   "cell_type": "code",
   "execution_count": 4,
   "id": "ef4a9114",
   "metadata": {
    "execution": {
     "iopub.execute_input": "2023-07-31T17:46:13.808801Z",
     "iopub.status.busy": "2023-07-31T17:46:13.808369Z",
     "iopub.status.idle": "2023-07-31T17:46:15.181762Z",
     "shell.execute_reply": "2023-07-31T17:46:15.180395Z"
    },
    "papermill": {
     "duration": 1.380109,
     "end_time": "2023-07-31T17:46:15.184306",
     "exception": false,
     "start_time": "2023-07-31T17:46:13.804197",
     "status": "completed"
    },
    "tags": []
   },
   "outputs": [
    {
     "name": "stdout",
     "output_type": "stream",
     "text": [
      "None\n"
     ]
    },
    {
     "data": {
      "image/png": "[encoded data removed]",
      "text/plain": [
       "<Figure size 640x480 with 1 Axes>"
      ]
     },
     "metadata": {},
     "output_type": "display_data"
    }
   ],
   "source": [
    "def tree_classifier(X, Y):\n",
    "    classifier = tree.DecisionTreeClassifier()\n",
    "    classifier.fit(X, Y)\n",
    "    tree.plot_tree(classifier)\n",
    "    \n",
    "print(tree_classifier(XTrainHead, YTrainHead))"
   ]
  },
  {
   "cell_type": "code",
   "execution_count": null,
   "id": "50ded2e9",
   "metadata": {
    "papermill": {
     "duration": 0.003184,
     "end_time": "2023-07-31T17:46:15.191174",
     "exception": false,
     "start_time": "2023-07-31T17:46:15.187990",
     "status": "completed"
    },
    "tags": []
   },
   "outputs": [],
   "source": []
  },
  {
   "cell_type": "code",
   "execution_count": null,
   "id": "a1532bd4",
   "metadata": {
    "papermill": {
     "duration": 0.003107,
     "end_time": "2023-07-31T17:46:15.197653",
     "exception": false,
     "start_time": "2023-07-31T17:46:15.194546",
     "status": "completed"
    },
    "tags": []
   },
   "outputs": [],
   "source": []
  }
 ],
 "metadata": {
  "kernelspec": {
   "display_name": "Python 3",
   "language": "python",
   "name": "python3"
  },
  "language_info": {
   "codemirror_mode": {
    "name": "ipython",
    "version": 3
   },
   "file_extension": ".py",
   "mimetype": "text/x-python",
   "name": "python",
   "nbconvert_exporter": "python",
   "pygments_lexer": "ipython3",
   "version": "3.10.12"
  },
  "papermill": {
   "default_parameters": {},
   "duration": 14.06814,
   "end_time": "2023-07-31T17:46:16.123592",
   "environment_variables": {},
   "exception": null,
   "input_path": "__notebook__.ipynb",
   "output_path": "__notebook__.ipynb",
   "parameters": {},
   "start_time": "2023-07-31T17:46:02.055452",
   "version": "2.4.0"
  }
 },
 "nbformat": 4,
 "nbformat_minor": 5
}
