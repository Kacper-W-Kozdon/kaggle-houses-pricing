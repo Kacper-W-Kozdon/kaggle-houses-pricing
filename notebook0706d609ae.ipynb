{
 "cells": [
  {
   "cell_type": "code",
   "execution_count": 1,
   "id": "c4f6b40c",
   "metadata": {
    "_cell_guid": "b1076dfc-b9ad-4769-8c92-a6c4dae69d19",
    "_uuid": "8f2839f25d086af736a60e9eeb907d3b93b6e0e5",
    "execution": {
     "iopub.execute_input": "2023-07-26T16:02:05.298818Z",
     "iopub.status.busy": "2023-07-26T16:02:05.297769Z",
     "iopub.status.idle": "2023-07-26T16:02:05.316489Z",
     "shell.execute_reply": "2023-07-26T16:02:05.315333Z"
    },
    "papermill": {
     "duration": 0.02742,
     "end_time": "2023-07-26T16:02:05.319745",
     "exception": false,
     "start_time": "2023-07-26T16:02:05.292325",
     "status": "completed"
    },
    "tags": []
   },
   "outputs": [
    {
     "name": "stdout",
     "output_type": "stream",
     "text": [
      "/kaggle/input/house-prices-advanced-regression-techniques/sample_submission.csv\n",
      "/kaggle/input/house-prices-advanced-regression-techniques/data_description.txt\n",
      "/kaggle/input/house-prices-advanced-regression-techniques/train.csv\n",
      "/kaggle/input/house-prices-advanced-regression-techniques/test.csv\n"
     ]
    }
   ],
   "source": [
    "# This Python 3 environment comes with many helpful analytics libraries installed\n",
    "# It is defined by the kaggle/python Docker image: https://github.com/kaggle/docker-python\n",
    "# For example, here's several helpful packages to load\n",
    "\n",
    "import numpy as np # linear algebra\n",
    "import pandas as pd # data processing, CSV file I/O (e.g. pd.read_csv)\n",
    "import math\n",
    "\n",
    "# Input data files are available in the read-only \"../input/\" directory\n",
    "# For example, running this (by clicking run or pressing Shift+Enter) will list all files under the input directory\n",
    "\n",
    "import os\n",
    "for dirname, _, filenames in os.walk('/kaggle/input'):\n",
    "    for filename in filenames:\n",
    "        print(os.path.join(dirname, filename))\n",
    "\n",
    "# You can write up to 20GB to the current directory (/kaggle/working/) that gets preserved as output when you create a version using \"Save & Run All\" \n",
    "# You can also write temporary files to /kaggle/temp/, but they won't be saved outside of the current session"
   ]
  },
  {
   "cell_type": "code",
   "execution_count": 2,
   "id": "ed8fe51c",
   "metadata": {
    "execution": {
     "iopub.execute_input": "2023-07-26T16:02:05.328519Z",
     "iopub.status.busy": "2023-07-26T16:02:05.328135Z",
     "iopub.status.idle": "2023-07-26T16:02:05.452016Z",
     "shell.execute_reply": "2023-07-26T16:02:05.450509Z"
    },
    "papermill": {
     "duration": 0.131107,
     "end_time": "2023-07-26T16:02:05.454366",
     "exception": false,
     "start_time": "2023-07-26T16:02:05.323259",
     "status": "completed"
    },
    "tags": []
   },
   "outputs": [
    {
     "name": "stdout",
     "output_type": "stream",
     "text": [
      "   Id  MSSubClass MSZoning  LotFrontage  LotArea Street Alley LotShape  \\\n",
      "0   1          60       RL         65.0     8450   Pave   NaN      Reg   \n",
      "1   2          20       RL         80.0     9600   Pave   NaN      Reg   \n",
      "2   3          60       RL         68.0    11250   Pave   NaN      IR1   \n",
      "3   4          70       RL         60.0     9550   Pave   NaN      IR1   \n",
      "4   5          60       RL         84.0    14260   Pave   NaN      IR1   \n",
      "\n",
      "  LandContour Utilities  ... PoolArea PoolQC Fence MiscFeature MiscVal MoSold  \\\n",
      "0         Lvl    AllPub  ...        0    NaN   NaN         NaN       0      2   \n",
      "1         Lvl    AllPub  ...        0    NaN   NaN         NaN       0      5   \n",
      "2         Lvl    AllPub  ...        0    NaN   NaN         NaN       0      9   \n",
      "3         Lvl    AllPub  ...        0    NaN   NaN         NaN       0      2   \n",
      "4         Lvl    AllPub  ...        0    NaN   NaN         NaN       0     12   \n",
      "\n",
      "  YrSold  SaleType  SaleCondition  SalePrice  \n",
      "0   2008        WD         Normal     208500  \n",
      "1   2007        WD         Normal     181500  \n",
      "2   2008        WD         Normal     223500  \n",
      "3   2006        WD        Abnorml     140000  \n",
      "4   2008        WD         Normal     250000  \n",
      "\n",
      "[5 rows x 81 columns]\n"
     ]
    },
    {
     "data": {
      "text/plain": [
       "float"
      ]
     },
     "execution_count": 2,
     "metadata": {},
     "output_type": "execute_result"
    }
   ],
   "source": [
    "train = pd.read_csv(\"/kaggle/input/house-prices-advanced-regression-techniques/train.csv\")\n",
    "test = pd.read_csv(\"/kaggle/input/house-prices-advanced-regression-techniques/test.csv\")\n",
    "print(train.head())\n",
    "train.columns\n",
    "set(list(train[\"MSSubClass\"][:]))\n",
    "type(list(train[\"PoolQC\"][:])[0])"
   ]
  },
  {
   "cell_type": "code",
   "execution_count": 3,
   "id": "9ed263ed",
   "metadata": {
    "execution": {
     "iopub.execute_input": "2023-07-26T16:02:05.463349Z",
     "iopub.status.busy": "2023-07-26T16:02:05.462922Z",
     "iopub.status.idle": "2023-07-26T16:02:05.573214Z",
     "shell.execute_reply": "2023-07-26T16:02:05.570894Z"
    },
    "papermill": {
     "duration": 0.118112,
     "end_time": "2023-07-26T16:02:05.575999",
     "exception": false,
     "start_time": "2023-07-26T16:02:05.457887",
     "status": "completed"
    },
    "tags": []
   },
   "outputs": [
    {
     "name": "stdout",
     "output_type": "stream",
     "text": [
      "{'MSZoning': {'RL': 0, 'RM': 1}, 'LotFrontage': {nan: 1, nan: 4, nan: 6}, 'Street': {'Pave': 0}, 'Alley': {nan: 0}, 'LotShape': {'IR1': 0, 'Reg': 1, 'IR2': 2}, 'LandContour': {'Lvl': 0}, 'Utilities': {'AllPub': 0}, 'LotConfig': {'Corner': 0, 'FR2': 1, 'Inside': 2}, 'LandSlope': {'Gtl': 0}, 'Neighborhood': {'NWAmes': 0, 'CollgCr': 1, 'OldTown': 2, 'Somerst': 3, 'Mitchel': 4, 'Crawfor': 5, 'NoRidge': 6, 'NAmes': 7, 'Veenker': 8, 'Sawyer': 9, 'NridgHt': 10, 'BrkSide': 11}, 'Condition1': {'Norm': 0, 'Feedr': 1, 'PosN': 2, 'Artery': 3}, 'Condition2': {'Norm': 0, 'Artery': 1}, 'BldgType': {'2fmCon': 0, '1Fam': 1}, 'HouseStyle': {'1Story': 0, '1.5Unf': 1, '2Story': 2, '1.5Fin': 3}, 'RoofStyle': {'Hip': 0, 'Gable': 1}, 'RoofMatl': {'CompShg': 0}, 'Exterior1st': {'BrkFace': 0, 'VinylSd': 1, 'MetalSd': 2, 'WdShing': 3, 'Wd Sdng': 4, 'HdBoard': 5}, 'Exterior2nd': {'VinylSd': 0, 'MetalSd': 1, 'Plywood': 2, 'HdBoard': 3, 'Wd Shng': 4}, 'MasVnrType': {'None': 0, 'BrkFace': 1, 'Stone': 2}, 'ExterQual': {'Gd': 0, 'Ex': 1, 'TA': 2}, 'ExterCond': {'TA': 0}, 'Foundation': {'PConc': 0, 'Wood': 1, 'CBlock': 2, 'BrkTil': 3}, 'BsmtQual': {'Gd': 0, 'Ex': 1, 'TA': 2}, 'BsmtCond': {'Gd': 0, 'TA': 1}, 'BsmtExposure': {'No': 0, 'Gd': 1, 'Av': 2, 'Mn': 3}, 'BsmtFinType1': {'BLQ': 0, 'Rec': 1, 'Unf': 2, 'GLQ': 3, 'ALQ': 4}, 'BsmtFinType2': {'Unf': 0, 'BLQ': 1}, 'Heating': {'GasA': 0}, 'HeatingQC': {'Gd': 0, 'Ex': 1, 'TA': 2}, 'CentralAir': {'Y': 0}, 'Electrical': {'FuseF': 0, 'SBrkr': 1}, 'KitchenQual': {'Gd': 0, 'Ex': 1, 'TA': 2}, 'Functional': {'Typ': 0, 'Min1': 1}, 'FireplaceQu': {'Gd': 0, 'Fa': 1, nan: 2, 'TA': 3}, 'GarageType': {'BuiltIn': 0, 'Detchd': 1, 'Attchd': 2}, 'GarageFinish': {'Fin': 0, 'RFn': 1, 'Unf': 2}, 'GarageQual': {'Gd': 0, 'Fa': 1, 'TA': 2}, 'GarageCond': {'TA': 0}, 'PavedDrive': {'Y': 0}, 'PoolQC': {nan: 0}, 'Fence': {nan: 0, 'GdWo': 1, 'MnPrv': 2}, 'MiscFeature': {nan: 0, 'Shed': 1}, 'SaleType': {'WD': 0, 'New': 1}, 'SaleCondition': {'Normal': 0, 'Abnorml': 1, 'Partial': 2}}\n",
      "    Id  MSSubClass  MSZoning  LotFrontage  LotArea  Street  Alley  LotShape  \\\n",
      "0    1          60         0         65.0     8450       0    0.0         1   \n",
      "1    2          20         0         80.0     9600       0    0.0         1   \n",
      "2    3          60         0         68.0    11250       0    0.0         0   \n",
      "3    4          70         0         60.0     9550       0    0.0         0   \n",
      "4    5          60         0         84.0    14260       0    0.0         0   \n",
      "5    6          50         0         85.0    14115       0    0.0         0   \n",
      "6    7          20         0         75.0    10084       0    0.0         1   \n",
      "7    8          60         0          0.0    10382       0    0.0         0   \n",
      "8    9          50         1         51.0     6120       0    0.0         1   \n",
      "9   10         190         0         50.0     7420       0    0.0         1   \n",
      "10  11          20         0         70.0    11200       0    0.0         1   \n",
      "11  12          60         0         85.0    11924       0    0.0         0   \n",
      "12  13          20         0          0.0    12968       0    0.0         2   \n",
      "13  14          20         0         91.0    10652       0    0.0         0   \n",
      "14  15          20         0          0.0    10920       0    0.0         0   \n",
      "\n",
      "    LandContour  Utilities  ...  PoolArea  PoolQC  Fence  MiscFeature  \\\n",
      "0             0          0  ...         0     0.0      0            0   \n",
      "1             0          0  ...         0     0.0      0            0   \n",
      "2             0          0  ...         0     0.0      0            0   \n",
      "3             0          0  ...         0     0.0      0            0   \n",
      "4             0          0  ...         0     0.0      0            0   \n",
      "5             0          0  ...         0     0.0      2            1   \n",
      "6             0          0  ...         0     0.0      0            0   \n",
      "7             0          0  ...         0     0.0      0            1   \n",
      "8             0          0  ...         0     0.0      0            0   \n",
      "9             0          0  ...         0     0.0      0            0   \n",
      "10            0          0  ...         0     0.0      0            0   \n",
      "11            0          0  ...         0     0.0      0            0   \n",
      "12            0          0  ...         0     0.0      0            0   \n",
      "13            0          0  ...         0     0.0      0            0   \n",
      "14            0          0  ...         0     0.0      1            0   \n",
      "\n",
      "    MiscVal  MoSold  YrSold  SaleType  SaleCondition  SalePrice  \n",
      "0         0       2    2008         0              0     208500  \n",
      "1         0       5    2007         0              0     181500  \n",
      "2         0       9    2008         0              0     223500  \n",
      "3         0       2    2006         0              1     140000  \n",
      "4         0      12    2008         0              0     250000  \n",
      "5       700      10    2009         0              0     143000  \n",
      "6         0       8    2007         0              0     307000  \n",
      "7       350      11    2009         0              0     200000  \n",
      "8         0       4    2008         0              1     129900  \n",
      "9         0       1    2008         0              0     118000  \n",
      "10        0       2    2008         0              0     129500  \n",
      "11        0       7    2006         1              2     345000  \n",
      "12        0       9    2008         0              0     144000  \n",
      "13        0       8    2007         1              2     279500  \n",
      "14        0       5    2008         0              0     157000  \n",
      "\n",
      "[15 rows x 81 columns]\n"
     ]
    }
   ],
   "source": [
    "def data_prep_dict(dataFrame):\n",
    "    columns = dataFrame.columns\n",
    "    getUniqVals = lambda column : set(list(column))\n",
    "    dataFrameDict = {}\n",
    "    for column in columns:\n",
    "        columnUniqVals = getUniqVals(dataFrame.loc[:, column])\n",
    "        auxDict = {}\n",
    "        for (idx, val) in enumerate(columnUniqVals):\n",
    "            if type(val) == str:\n",
    "                auxDict[str(val)] = idx \n",
    "            try:\n",
    "                if math.isnan(val):\n",
    "                    auxDict[val] = idx\n",
    "            except:\n",
    "                pass\n",
    "        dataFrameDict[column] = auxDict\n",
    "    \n",
    "    for column in columns:\n",
    "        if dataFrameDict[column] == {}:\n",
    "            dataFrameDict.pop(column)\n",
    "        \n",
    "        \n",
    "    return dataFrameDict\n",
    "\n",
    "print(data_prep_dict(train.head(15)))\n",
    "trainDict = data_prep_dict(train.head(15))\n",
    "\n",
    "def data_prep(dataFrame, dataFrameDict):\n",
    "    dataFrameDictCollapsed = {}\n",
    "    for key in list(dataFrameDict.keys()):\n",
    "        dataFrameDictCollapsed.update(dataFrameDict[key])\n",
    "    dataFrame = dataFrame.replace(dataFrameDictCollapsed)\n",
    "    return dataFrame\n",
    "\n",
    "print(data_prep(train.head(15), trainDict))"
   ]
  },
  {
   "cell_type": "code",
   "execution_count": null,
   "id": "4f52d0a1",
   "metadata": {
    "execution": {
     "iopub.execute_input": "2023-07-26T15:57:20.033620Z",
     "iopub.status.busy": "2023-07-26T15:57:20.033083Z",
     "iopub.status.idle": "2023-07-26T15:57:20.044049Z",
     "shell.execute_reply": "2023-07-26T15:57:20.042288Z",
     "shell.execute_reply.started": "2023-07-26T15:57:20.033577Z"
    },
    "papermill": {
     "duration": 0.003487,
     "end_time": "2023-07-26T16:02:05.583441",
     "exception": false,
     "start_time": "2023-07-26T16:02:05.579954",
     "status": "completed"
    },
    "tags": []
   },
   "outputs": [],
   "source": []
  },
  {
   "cell_type": "code",
   "execution_count": null,
   "id": "589e196f",
   "metadata": {
    "papermill": {
     "duration": 0.003354,
     "end_time": "2023-07-26T16:02:05.590604",
     "exception": false,
     "start_time": "2023-07-26T16:02:05.587250",
     "status": "completed"
    },
    "tags": []
   },
   "outputs": [],
   "source": []
  },
  {
   "cell_type": "code",
   "execution_count": null,
   "id": "7d224607",
   "metadata": {
    "papermill": {
     "duration": 0.003351,
     "end_time": "2023-07-26T16:02:05.597589",
     "exception": false,
     "start_time": "2023-07-26T16:02:05.594238",
     "status": "completed"
    },
    "tags": []
   },
   "outputs": [],
   "source": []
  }
 ],
 "metadata": {
  "kernelspec": {
   "display_name": "Python 3",
   "language": "python",
   "name": "python3"
  },
  "language_info": {
   "codemirror_mode": {
    "name": "ipython",
    "version": 3
   },
   "file_extension": ".py",
   "mimetype": "text/x-python",
   "name": "python",
   "nbconvert_exporter": "python",
   "pygments_lexer": "ipython3",
   "version": "3.10.12"
  },
  "papermill": {
   "default_parameters": {},
   "duration": 13.402522,
   "end_time": "2023-07-26T16:02:06.524151",
   "environment_variables": {},
   "exception": null,
   "input_path": "__notebook__.ipynb",
   "output_path": "__notebook__.ipynb",
   "parameters": {},
   "start_time": "2023-07-26T16:01:53.121629",
   "version": "2.4.0"
  }
 },
 "nbformat": 4,
 "nbformat_minor": 5
}
