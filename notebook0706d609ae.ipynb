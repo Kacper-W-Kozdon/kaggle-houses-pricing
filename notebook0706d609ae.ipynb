{
 "cells": [
  {
   "cell_type": "code",
   "execution_count": 1,
   "id": "eef92869",
   "metadata": {
    "_cell_guid": "b1076dfc-b9ad-4769-8c92-a6c4dae69d19",
    "_uuid": "8f2839f25d086af736a60e9eeb907d3b93b6e0e5",
    "execution": {
     "iopub.execute_input": "2023-08-02T10:34:42.707867Z",
     "iopub.status.busy": "2023-08-02T10:34:42.706799Z",
     "iopub.status.idle": "2023-08-02T10:34:44.612921Z",
     "shell.execute_reply": "2023-08-02T10:34:44.611170Z"
    },
    "papermill": {
     "duration": 1.915097,
     "end_time": "2023-08-02T10:34:44.615881",
     "exception": false,
     "start_time": "2023-08-02T10:34:42.700784",
     "status": "completed"
    },
    "tags": []
   },
   "outputs": [
    {
     "name": "stderr",
     "output_type": "stream",
     "text": [
      "/opt/conda/lib/python3.10/site-packages/scipy/__init__.py:146: UserWarning: A NumPy version >=1.16.5 and <1.23.0 is required for this version of SciPy (detected version 1.23.5\n",
      "  warnings.warn(f\"A NumPy version >={np_minversion} and <{np_maxversion}\"\n"
     ]
    },
    {
     "name": "stdout",
     "output_type": "stream",
     "text": [
      "/kaggle/input/house-prices-advanced-regression-techniques/sample_submission.csv\n",
      "/kaggle/input/house-prices-advanced-regression-techniques/data_description.txt\n",
      "/kaggle/input/house-prices-advanced-regression-techniques/train.csv\n",
      "/kaggle/input/house-prices-advanced-regression-techniques/test.csv\n"
     ]
    }
   ],
   "source": [
    "# This Python 3 environment comes with many helpful analytics libraries installed\n",
    "# It is defined by the kaggle/python Docker image: https://github.com/kaggle/docker-python\n",
    "# For example, here's several helpful packages to load\n",
    "\n",
    "__requires__= 'numpy==1.22.3'\n",
    "import numpy as np # linear algebra\n",
    "import pandas as pd # data processing, CSV file I/O (e.g. pd.read_csv)\n",
    "import math\n",
    "import graphviz \n",
    "import sklearn\n",
    "from sklearn import tree\n",
    "\n",
    "# Input data files are available in the read-only \"../input/\" directory\n",
    "# For example, running this (by clicking run or pressing Shift+Enter) will list all files under the input directory\n",
    "\n",
    "import os\n",
    "for dirname, _, filenames in os.walk('/kaggle/input'):\n",
    "    for filename in filenames:\n",
    "        print(os.path.join(dirname, filename))\n",
    "\n",
    "# You can write up to 20GB to the current directory (/kaggle/working/) that gets preserved as output when you create a version using \"Save & Run All\" \n",
    "# You can also write temporary files to /kaggle/temp/, but they won't be saved outside of the current session"
   ]
  },
  {
   "cell_type": "code",
   "execution_count": 2,
   "id": "6563fe3b",
   "metadata": {
    "execution": {
     "iopub.execute_input": "2023-08-02T10:34:44.626550Z",
     "iopub.status.busy": "2023-08-02T10:34:44.626097Z",
     "iopub.status.idle": "2023-08-02T10:35:01.609468Z",
     "shell.execute_reply": "2023-08-02T10:35:01.607804Z"
    },
    "papermill": {
     "duration": 16.993157,
     "end_time": "2023-08-02T10:35:01.613553",
     "exception": false,
     "start_time": "2023-08-02T10:34:44.620396",
     "status": "completed"
    },
    "tags": []
   },
   "outputs": [
    {
     "name": "stdout",
     "output_type": "stream",
     "text": [
      "Collecting PyPDF2\r\n",
      "  Downloading pypdf2-3.0.1-py3-none-any.whl (232 kB)\r\n",
      "\u001b[2K     \u001b[90m━━━━━━━━━━━━━━━━━━━━━━━━━━━━━━━━━━━━━━━\u001b[0m \u001b[32m232.6/232.6 kB\u001b[0m \u001b[31m7.8 MB/s\u001b[0m eta \u001b[36m0:00:00\u001b[0m\r\n",
      "\u001b[?25hInstalling collected packages: PyPDF2\r\n",
      "Successfully installed PyPDF2-3.0.1\r\n"
     ]
    }
   ],
   "source": [
    "!pip install PyPDF2\n",
    "import PyPDF2"
   ]
  },
  {
   "cell_type": "code",
   "execution_count": 3,
   "id": "8782686f",
   "metadata": {
    "execution": {
     "iopub.execute_input": "2023-08-02T10:35:01.624876Z",
     "iopub.status.busy": "2023-08-02T10:35:01.624133Z",
     "iopub.status.idle": "2023-08-02T10:35:01.755684Z",
     "shell.execute_reply": "2023-08-02T10:35:01.753387Z"
    },
    "papermill": {
     "duration": 0.140685,
     "end_time": "2023-08-02T10:35:01.758757",
     "exception": false,
     "start_time": "2023-08-02T10:35:01.618072",
     "status": "completed"
    },
    "tags": []
   },
   "outputs": [
    {
     "name": "stdout",
     "output_type": "stream",
     "text": [
      "   Id  MSSubClass MSZoning  LotFrontage  LotArea Street Alley LotShape  \\\n",
      "0   1          60       RL         65.0     8450   Pave   NaN      Reg   \n",
      "1   2          20       RL         80.0     9600   Pave   NaN      Reg   \n",
      "2   3          60       RL         68.0    11250   Pave   NaN      IR1   \n",
      "3   4          70       RL         60.0     9550   Pave   NaN      IR1   \n",
      "4   5          60       RL         84.0    14260   Pave   NaN      IR1   \n",
      "\n",
      "  LandContour Utilities  ... PoolArea PoolQC Fence MiscFeature MiscVal MoSold  \\\n",
      "0         Lvl    AllPub  ...        0    NaN   NaN         NaN       0      2   \n",
      "1         Lvl    AllPub  ...        0    NaN   NaN         NaN       0      5   \n",
      "2         Lvl    AllPub  ...        0    NaN   NaN         NaN       0      9   \n",
      "3         Lvl    AllPub  ...        0    NaN   NaN         NaN       0      2   \n",
      "4         Lvl    AllPub  ...        0    NaN   NaN         NaN       0     12   \n",
      "\n",
      "  YrSold  SaleType  SaleCondition  SalePrice  \n",
      "0   2008        WD         Normal     208500  \n",
      "1   2007        WD         Normal     181500  \n",
      "2   2008        WD         Normal     223500  \n",
      "3   2006        WD        Abnorml     140000  \n",
      "4   2008        WD         Normal     250000  \n",
      "\n",
      "[5 rows x 81 columns]\n"
     ]
    },
    {
     "data": {
      "text/plain": [
       "float"
      ]
     },
     "execution_count": 3,
     "metadata": {},
     "output_type": "execute_result"
    }
   ],
   "source": [
    "train = pd.read_csv(\"/kaggle/input/house-prices-advanced-regression-techniques/train.csv\")\n",
    "test = pd.read_csv(\"/kaggle/input/house-prices-advanced-regression-techniques/test.csv\")\n",
    "print(train.head())\n",
    "train.columns\n",
    "set(list(train[\"MSSubClass\"][:]))\n",
    "type(list(train[\"PoolQC\"][:])[0])"
   ]
  },
  {
   "cell_type": "code",
   "execution_count": 4,
   "id": "88768d8b",
   "metadata": {
    "execution": {
     "iopub.execute_input": "2023-08-02T10:35:01.770014Z",
     "iopub.status.busy": "2023-08-02T10:35:01.769606Z",
     "iopub.status.idle": "2023-08-02T10:35:03.268172Z",
     "shell.execute_reply": "2023-08-02T10:35:03.266395Z"
    },
    "papermill": {
     "duration": 1.508199,
     "end_time": "2023-08-02T10:35:03.271672",
     "exception": false,
     "start_time": "2023-08-02T10:35:01.763473",
     "status": "completed"
    },
    "tags": []
   },
   "outputs": [
    {
     "name": "stdout",
     "output_type": "stream",
     "text": [
      "(    Id  MSSubClass  MSZoning  LotFrontage  LotArea  Street  Alley  LotShape  \\\n",
      "0    1          60         1         65.0     8450       2  176.0         0   \n",
      "1    2          20         1         80.0     9600       2  176.0         0   \n",
      "2    3          60         1         68.0    11250       2  176.0         3   \n",
      "3    4          70         1         60.0     9550       2  176.0         3   \n",
      "4    5          60         1         84.0    14260       2  176.0         3   \n",
      "5    6          50         1         85.0    14115       2  176.0         3   \n",
      "6    7          20         1         75.0    10084       2  176.0         0   \n",
      "7    8          60         1        176.0    10382       2  176.0         3   \n",
      "8    9          50         3         51.0     6120       2  176.0         0   \n",
      "9   10         190         1         50.0     7420       2  176.0         0   \n",
      "10  11          20         1         70.0    11200       2  176.0         0   \n",
      "11  12          60         1         85.0    11924       2  176.0         3   \n",
      "12  13          20         1        176.0    12968       2  176.0         1   \n",
      "13  14          20         1         91.0    10652       2  176.0         3   \n",
      "14  15          20         1        176.0    10920       2  176.0         3   \n",
      "\n",
      "    LandContour  Utilities  ...  ScreenPorch  PoolArea  PoolQC  Fence  \\\n",
      "0             1          1  ...            0         0   176.0    176   \n",
      "1             1          1  ...            0         0   176.0    176   \n",
      "2             1          1  ...            0         0   176.0    176   \n",
      "3             1          1  ...            0         0   176.0    176   \n",
      "4             1          1  ...            0         0   176.0    176   \n",
      "5             1          1  ...            0         0   176.0      0   \n",
      "6             1          1  ...            0         0   176.0    176   \n",
      "7             1          1  ...            0         0   176.0    176   \n",
      "8             1          1  ...            0         0   176.0    176   \n",
      "9             1          1  ...            0         0   176.0    176   \n",
      "10            1          1  ...            0         0   176.0    176   \n",
      "11            1          1  ...            0         0   176.0    176   \n",
      "12            1          1  ...          176         0   176.0    176   \n",
      "13            1          1  ...            0         0   176.0    176   \n",
      "14            1          1  ...            0         0   176.0      3   \n",
      "\n",
      "    MiscFeature  MiscVal  MoSold  YrSold  SaleType  SaleCondition  \n",
      "0             0        0       2    2008         4              4  \n",
      "1             0        0       5    2007         4              4  \n",
      "2             0        0       9    2008         4              4  \n",
      "3             0        0       2    2006         4              1  \n",
      "4             0        0      12    2008         4              4  \n",
      "5             2      700      10    2009         4              4  \n",
      "6             0        0       8    2007         4              4  \n",
      "7             2      350      11    2009         4              4  \n",
      "8             0        0       4    2008         4              1  \n",
      "9             0        0       1    2008         4              4  \n",
      "10            0        0       2    2008         4              4  \n",
      "11            0        0       7    2006         5              2  \n",
      "12            0        0       9    2008         4              4  \n",
      "13            0        0       8    2007         5              2  \n",
      "14            0        0       5    2008         4              4  \n",
      "\n",
      "[15 rows x 80 columns], 0     208500\n",
      "1     181500\n",
      "2     223500\n",
      "3     140000\n",
      "4     250000\n",
      "5     143000\n",
      "6     307000\n",
      "7     200000\n",
      "8     129900\n",
      "9     118000\n",
      "10    129500\n",
      "11    345000\n",
      "12    144000\n",
      "13    279500\n",
      "14    157000\n",
      "Name: SalePrice, dtype: int64)\n"
     ]
    }
   ],
   "source": [
    "def data_prep_dict(dataFrame):\n",
    "    columns = dataFrame.columns\n",
    "    getUniqVals = lambda column : set(list(column))\n",
    "    dataFrameDict = {}\n",
    "    for column in columns:\n",
    "        columnUniqVals = getUniqVals(dataFrame.loc[:, column])\n",
    "        auxDict = {}\n",
    "        for (idx, val) in enumerate(columnUniqVals):\n",
    "            if type(val) == str:\n",
    "                auxDict[str(val)] = idx \n",
    "            try:\n",
    "                if math.isnan(val):\n",
    "                    auxDict[val] = idx\n",
    "            except:\n",
    "                pass\n",
    "        dataFrameDict[column] = auxDict\n",
    "    \n",
    "    for column in columns:\n",
    "        if dataFrameDict[column] == {}:\n",
    "            dataFrameDict.pop(column)\n",
    "        \n",
    "        \n",
    "    return dataFrameDict\n",
    "\n",
    "#print(data_prep_dict(train))\n",
    "trainDict = data_prep_dict(train)\n",
    "\n",
    "def data_prep(dataFrame, dataFrameDict, test = 0):\n",
    "    dataFrameDictCollapsed = {}\n",
    "    for key in list(dataFrameDict.keys()):\n",
    "        dataFrameDictCollapsed.update(dataFrameDict[key])\n",
    "    dataFrame = dataFrame.replace(dataFrameDictCollapsed)\n",
    "    X = dataFrame.loc[:, \"Id\":\"SaleCondition\"]\n",
    "    if not test:\n",
    "        Y = dataFrame.loc[:, \"SalePrice\"]\n",
    "        return X, Y\n",
    "    else:\n",
    "        return X\n",
    "\n",
    "print(data_prep(train.head(15), trainDict))\n",
    "XTrainHead, YTrainHead = data_prep(train.head(15), trainDict)\n",
    "XTestHead = data_prep(test.head(15), trainDict, test = 1)"
   ]
  },
  {
   "cell_type": "code",
   "execution_count": 5,
   "id": "b415e4f6",
   "metadata": {
    "execution": {
     "iopub.execute_input": "2023-08-02T10:35:03.284315Z",
     "iopub.status.busy": "2023-08-02T10:35:03.283763Z",
     "iopub.status.idle": "2023-08-02T10:35:05.028145Z",
     "shell.execute_reply": "2023-08-02T10:35:05.026638Z"
    },
    "papermill": {
     "duration": 1.754323,
     "end_time": "2023-08-02T10:35:05.031051",
     "exception": false,
     "start_time": "2023-08-02T10:35:03.276728",
     "status": "completed"
    },
    "tags": []
   },
   "outputs": [
    {
     "name": "stdout",
     "output_type": "stream",
     "text": [
      "None\n"
     ]
    },
    {
     "data": {
      "image/png": "[encoded data removed]",
      "text/plain": [
       "<Figure size 640x480 with 1 Axes>"
      ]
     },
     "metadata": {},
     "output_type": "display_data"
    }
   ],
   "source": [
    "def tree_classifier(X, Y):\n",
    "    classifier = tree.DecisionTreeClassifier()\n",
    "    classifier.fit(X, Y)\n",
    "    tree.plot_tree(classifier)\n",
    "    \n",
    "print(tree_classifier(XTrainHead, YTrainHead))"
   ]
  },
  {
   "cell_type": "code",
   "execution_count": 6,
   "id": "c4afd318",
   "metadata": {
    "execution": {
     "iopub.execute_input": "2023-08-02T10:35:05.045227Z",
     "iopub.status.busy": "2023-08-02T10:35:05.044159Z",
     "iopub.status.idle": "2023-08-02T10:35:06.994864Z",
     "shell.execute_reply": "2023-08-02T10:35:06.993695Z"
    },
    "papermill": {
     "duration": 1.960679,
     "end_time": "2023-08-02T10:35:06.997444",
     "exception": false,
     "start_time": "2023-08-02T10:35:05.036765",
     "status": "completed"
    },
    "tags": []
   },
   "outputs": [
    {
     "name": "stdout",
     "output_type": "stream",
     "text": [
      "[144000 157000 129500 140000 129900 181500 181500 140000 140000 144000\n",
      " 129900 129900 129900 129900 129900]\n"
     ]
    },
    {
     "data": {
      "text/plain": [
       "<__main__.TreeClassifier at 0x7d96be146fe0>"
      ]
     },
     "execution_count": 6,
     "metadata": {},
     "output_type": "execute_result"
    },
    {
     "data": {
      "image/png": "[encoded data removed]",
      "text/plain": [
       "<Figure size 640x480 with 1 Axes>"
      ]
     },
     "metadata": {},
     "output_type": "display_data"
    }
   ],
   "source": [
    "#someTree = my_tree.DecisionTreeClassifier()\n",
    "#someTree2 = my_tree\n",
    "#print(dir(someTree))\n",
    "#print(dir(someTree2))\n",
    "#print(type(my_tree.DecisionTreeClassifier()))\n",
    "#print(type(my_tree))\n",
    "\n",
    "\n",
    "class TreeClassifier():\n",
    "    def __init__(self):\n",
    "        \n",
    "        classifier = None\n",
    "    \n",
    "    def train(self, X, Y):\n",
    "        classifier = tree.DecisionTreeClassifier()\n",
    "        classifier.fit(X, Y)\n",
    "        self.classifier = classifier\n",
    "        return self\n",
    "    \n",
    "    def plt(self):\n",
    "        tree.plot_tree(self.classifier)\n",
    "        dot_data = tree.export_graphviz(self.classifier, out_file=None, filled=True, rounded=True, special_characters=True)\n",
    "        graph = graphviz.Source(dot_data)  \n",
    "        graph.render(\"myDecisionTree\")\n",
    "#        f = open('/kaggle/working/myDecisionTree.pdf','rb')\n",
    "#        pdf_reader = PyPDF2.PdfReader(f)\n",
    "#        page = pdf_reader.pages[0]\n",
    "#        \n",
    "#        count = 0\n",
    "#\n",
    "#        for image_file_object in page.images:\n",
    "#            with open(str(count) + image_file_object.name, \"wb\") as fp:\n",
    "#                fp.write(image_file_object.data)\n",
    "#                count += 1\n",
    "    \n",
    "    def pred(self, X, Y):\n",
    "        self.predictions = self.classifier.predict(X)\n",
    "        print(self.predictions)\n",
    "        return self\n",
    "        \n",
    "Tree = TreeClassifier()\n",
    "Tree.train(XTrainHead, YTrainHead)\n",
    "Tree.plt()  \n",
    "Tree.pred(XTestHead, YTrainHead)\n",
    "    "
   ]
  },
  {
   "cell_type": "code",
   "execution_count": null,
   "id": "f17a718c",
   "metadata": {
    "papermill": {
     "duration": 0.006393,
     "end_time": "2023-08-02T10:35:07.010255",
     "exception": false,
     "start_time": "2023-08-02T10:35:07.003862",
     "status": "completed"
    },
    "tags": []
   },
   "outputs": [],
   "source": []
  },
  {
   "cell_type": "code",
   "execution_count": null,
   "id": "ab5cebba",
   "metadata": {
    "papermill": {
     "duration": 0.006867,
     "end_time": "2023-08-02T10:35:07.023589",
     "exception": false,
     "start_time": "2023-08-02T10:35:07.016722",
     "status": "completed"
    },
    "tags": []
   },
   "outputs": [],
   "source": []
  }
 ],
 "metadata": {
  "kernelspec": {
   "display_name": "Python 3",
   "language": "python",
   "name": "python3"
  },
  "language_info": {
   "codemirror_mode": {
    "name": "ipython",
    "version": 3
   },
   "file_extension": ".py",
   "mimetype": "text/x-python",
   "name": "python",
   "nbconvert_exporter": "python",
   "pygments_lexer": "ipython3",
   "version": "3.10.12"
  },
  "papermill": {
   "default_parameters": {},
   "duration": 38.934085,
   "end_time": "2023-08-02T10:35:08.256350",
   "environment_variables": {},
   "exception": null,
   "input_path": "__notebook__.ipynb",
   "output_path": "__notebook__.ipynb",
   "parameters": {},
   "start_time": "2023-08-02T10:34:29.322265",
   "version": "2.4.0"
  }
 },
 "nbformat": 4,
 "nbformat_minor": 5
}
